{
 "cells": [
  {
   "cell_type": "code",
   "execution_count": 1,
   "id": "0b62bec5-6eba-46cf-8b0e-177da85d9d12",
   "metadata": {},
   "outputs": [
    {
     "name": "stdout",
     "output_type": "stream",
     "text": [
      "+---------+\n",
      "|namespace|\n",
      "+---------+\n",
      "|  default|\n",
      "+---------+\n",
      "\n"
     ]
    }
   ],
   "source": [
    "from pyspark.sql import SparkSession\n",
    "\n",
    "# Create a new SparkSession with Apache Hive Support\n",
    "sparkSessionHive = SparkSession.builder \\\n",
    "    .master(\"local\") \\\n",
    "    .appName(\"hive-support\") \\\n",
    "    .enableHiveSupport() \\\n",
    "    .getOrCreate()\n",
    "\n",
    "# List available databases\n",
    "sparkSessionHive.sql(\"show databases\").show()"
   ]
  },
  {
   "cell_type": "code",
   "execution_count": 3,
   "id": "dfe39efd-2c0b-4042-b54c-6edecf6c6b50",
   "metadata": {},
   "outputs": [
    {
     "ename": "AttributeError",
     "evalue": "'Catalog' object has no attribute 'database'",
     "output_type": "error",
     "traceback": [
      "\u001b[0;31m---------------------------------------------------------------------------\u001b[0m",
      "\u001b[0;31mAttributeError\u001b[0m                            Traceback (most recent call last)",
      "Input \u001b[0;32mIn [3]\u001b[0m, in \u001b[0;36m<module>\u001b[0;34m\u001b[0m\n\u001b[1;32m      2\u001b[0m dbName \u001b[38;5;241m=\u001b[39m \u001b[38;5;124m\"\u001b[39m\u001b[38;5;124mcoffee_co_common\u001b[39m\u001b[38;5;124m\"\u001b[39m\n\u001b[1;32m      3\u001b[0m dbDescription \u001b[38;5;241m=\u001b[39m \u001b[38;5;124m\"\u001b[39m\u001b[38;5;124mThis database stores common information regarding inventory, stores, and customers\u001b[39m\u001b[38;5;124m\"\u001b[39m\n\u001b[0;32m----> 4\u001b[0m defaultWarehouse \u001b[38;5;241m=\u001b[39m \u001b[43msparkSessionHive\u001b[49m\u001b[38;5;241;43m.\u001b[39;49m\u001b[43mcatalog\u001b[49m\u001b[38;5;241;43m.\u001b[39;49m\u001b[43mdatabase\u001b[49m(\u001b[38;5;124m\"\u001b[39m\u001b[38;5;124mdefault\u001b[39m\u001b[38;5;124m\"\u001b[39m)\u001b[38;5;241m.\u001b[39mlocationUri\n\u001b[1;32m      5\u001b[0m warehousePrefix \u001b[38;5;241m=\u001b[39m \u001b[38;5;124mf\u001b[39m\u001b[38;5;124m\"\u001b[39m\u001b[38;5;132;01m{\u001b[39;00mdefaultWarehouse\u001b[38;5;132;01m}\u001b[39;00m\u001b[38;5;124m/common\u001b[39m\u001b[38;5;124m\"\u001b[39m\n\u001b[1;32m      7\u001b[0m \u001b[38;5;66;03m# Create database\u001b[39;00m\n",
      "\u001b[0;31mAttributeError\u001b[0m: 'Catalog' object has no attribute 'database'"
     ]
    }
   ],
   "source": [
    "# Define database parameters\n",
    "dbName = \"coffee_co_common\"\n",
    "dbDescription = \"This database stores common information regarding inventory, stores, and customers\"\n",
    "defaultWarehouse = sparkSessionHive.catalog.database(\"default\").locationUri\n",
    "warehousePrefix = f\"{defaultWarehouse}/common\"\n",
    "\n",
    "# Create database\n",
    "sparkSessionHive.sql(f\"\"\"\n",
    "CREATE DATABASE IF NOT EXISTS {dbName}\n",
    "COMMENT '{dbDescription}'\n",
    "LOCATION '{warehousePrefix}'\n",
    "WITH DBPROPERTIES ('team'='core', 'lead'='scott', 'team_slack'='#help_coffee_common');\n",
    "\"\"\")"
   ]
  },
  {
   "cell_type": "code",
   "execution_count": null,
   "id": "9ad319b9-bc45-402f-bcf9-90ab1b8a5424",
   "metadata": {},
   "outputs": [],
   "source": []
  }
 ],
 "metadata": {
  "kernelspec": {
   "display_name": "Python 3 (ipykernel)",
   "language": "python",
   "name": "python3"
  },
  "language_info": {
   "codemirror_mode": {
    "name": "ipython",
    "version": 3
   },
   "file_extension": ".py",
   "mimetype": "text/x-python",
   "name": "python",
   "nbconvert_exporter": "python",
   "pygments_lexer": "ipython3",
   "version": "3.9.7"
  }
 },
 "nbformat": 4,
 "nbformat_minor": 5
}

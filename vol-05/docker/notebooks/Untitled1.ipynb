{
 "cells": [
  {
   "cell_type": "code",
   "execution_count": 1,
   "id": "04ddc6b9-32bc-4f8f-a1ae-d5fcc1aa4e37",
   "metadata": {},
   "outputs": [
    {
     "ename": "NameError",
     "evalue": "name 'spark' is not defined",
     "output_type": "error",
     "traceback": [
      "\u001b[0;31m---------------------------------------------------------------------------\u001b[0m",
      "\u001b[0;31mNameError\u001b[0m                                 Traceback (most recent call last)",
      "Input \u001b[0;32mIn [1]\u001b[0m, in \u001b[0;36m<module>\u001b[0;34m\u001b[0m\n\u001b[0;32m----> 1\u001b[0m \u001b[43mspark\u001b[49m\u001b[38;5;241m.\u001b[39msql(\u001b[38;5;124m\"\"\"\u001b[39m\n\u001b[1;32m      2\u001b[0m \u001b[38;5;124mSELECT current_timestamp() as ts,\u001b[39m\n\u001b[1;32m      3\u001b[0m \u001b[38;5;124mcurrent_timezone() as tz,\u001b[39m\n\u001b[1;32m      4\u001b[0m \u001b[38;5;124mcurrent_date() as date,\u001b[39m\n\u001b[1;32m      5\u001b[0m \u001b[38;5;124mTIMESTAMP \u001b[39m\u001b[38;5;124m'\u001b[39m\u001b[38;5;124myesterday\u001b[39m\u001b[38;5;124m'\u001b[39m\u001b[38;5;124m as yesterday,\u001b[39m\n\u001b[1;32m      6\u001b[0m \u001b[38;5;124mTIMESTAMP \u001b[39m\u001b[38;5;124m'\u001b[39m\u001b[38;5;124mtoday\u001b[39m\u001b[38;5;124m'\u001b[39m\u001b[38;5;124m as today,\u001b[39m\n\u001b[1;32m      7\u001b[0m \u001b[38;5;124mTIMESTAMP \u001b[39m\u001b[38;5;124m'\u001b[39m\u001b[38;5;124mtomorrow\u001b[39m\u001b[38;5;124m'\u001b[39m\u001b[38;5;124m as tomorrow\u001b[39m\n\u001b[1;32m      8\u001b[0m \u001b[38;5;124m\"\"\"\u001b[39m)\u001b[38;5;241m.\u001b[39mshow(\u001b[38;5;241m6\u001b[39m,\u001b[38;5;241m0\u001b[39m,true)\n",
      "\u001b[0;31mNameError\u001b[0m: name 'spark' is not defined"
     ]
    }
   ],
   "source": [
    "spark.sql(\"\"\"\n",
    "SELECT current_timestamp() as ts,\n",
    "current_timezone() as tz,\n",
    "current_date() as date,\n",
    "TIMESTAMP 'yesterday' as yesterday,\n",
    "TIMESTAMP 'today' as today,\n",
    "TIMESTAMP 'tomorrow' as tomorrow\n",
    "\"\"\").show(6,0,true)"
   ]
  },
  {
   "cell_type": "code",
   "execution_count": 2,
   "id": "c59d4756-4085-4424-a308-934bc1f58bdf",
   "metadata": {},
   "outputs": [],
   "source": [
    "from pyspark.sql import SparkSession"
   ]
  },
  {
   "cell_type": "code",
   "execution_count": 6,
   "id": "c5c33656-44fd-4238-9939-a41e2840938f",
   "metadata": {},
   "outputs": [
    {
     "name": "stdout",
     "output_type": "stream",
     "text": [
      "+---------+\n",
      "|namespace|\n",
      "+---------+\n",
      "|  default|\n",
      "+---------+\n",
      "\n"
     ]
    }
   ],
   "source": [
    "from pyspark.sql import SparkSession\n",
    "\n",
    "# Create a new SparkSession with Apache Hive Support\n",
    "spark = SparkSession.builder \\\n",
    "    .master(\"local\") \\\n",
    "    .appName(\"hive-support\") \\\n",
    "    .enableHiveSupport() \\\n",
    "    .getOrCreate()\n",
    "\n",
    "# List available databases\n",
    "spark.sql(\"show databases\").show()"
   ]
  },
  {
   "cell_type": "code",
   "execution_count": 8,
   "id": "a1b2716f-e806-447c-af1e-6d0577d2a291",
   "metadata": {},
   "outputs": [
    {
     "name": "stdout",
     "output_type": "stream",
     "text": [
      "+--------------------+-------+----------+-------------------+-------------------+-------------------+\n",
      "|                  ts|     tz|      date|          yesterday|              today|           tomorrow|\n",
      "+--------------------+-------+----------+-------------------+-------------------+-------------------+\n",
      "|2024-05-12 20:21:...|Etc/UTC|2024-05-12|2024-05-11 00:00:00|2024-05-12 00:00:00|2024-05-13 00:00:00|\n",
      "+--------------------+-------+----------+-------------------+-------------------+-------------------+\n",
      "\n"
     ]
    }
   ],
   "source": [
    "spark.sql(\"\"\"\n",
    "SELECT current_timestamp() as ts,\n",
    "current_timezone() as tz,\n",
    "current_date() as date,\n",
    "TIMESTAMP 'yesterday' as yesterday,\n",
    "TIMESTAMP 'today' as today,\n",
    "TIMESTAMP 'tomorrow' as tomorrow\n",
    "\"\"\").show()"
   ]
  },
  {
   "cell_type": "code",
   "execution_count": null,
   "id": "963845d5-555c-475c-bc6a-d779b15eaf44",
   "metadata": {},
   "outputs": [],
   "source": []
  }
 ],
 "metadata": {
  "kernelspec": {
   "display_name": "Python 3 (ipykernel)",
   "language": "python",
   "name": "python3"
  },
  "language_info": {
   "codemirror_mode": {
    "name": "ipython",
    "version": 3
   },
   "file_extension": ".py",
   "mimetype": "text/x-python",
   "name": "python",
   "nbconvert_exporter": "python",
   "pygments_lexer": "ipython3",
   "version": "3.9.7"
  }
 },
 "nbformat": 4,
 "nbformat_minor": 5
}

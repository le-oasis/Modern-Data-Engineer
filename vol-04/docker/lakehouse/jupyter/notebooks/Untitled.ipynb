{
 "cells": [
  {
   "cell_type": "code",
   "execution_count": null,
   "id": "a91b4ef7-2d8f-4129-b654-9004f2849a6a",
   "metadata": {},
   "outputs": [],
   "source": []
  }
 ],
 "metadata": {
  "kernelspec": {
   "display_name": "Python 3 (ipykernel)",
   "language": "python",
   "name": "python3"
  },
  "language_info": {
   "name": ""
  }
 },
 "nbformat": 4,
 "nbformat_minor": 5
}

{
 "cells": [
  {
   "cell_type": "code",
   "execution_count": null,
   "id": "a91b4ef7-2d8f-4129-b654-9004f2849a6a",
   "metadata": {},
   "outputs": [],
   "source": [
    "import os\n",
    "from pyspark.sql import SparkSession\n",
    "from pyspark.sql.functions import current_timestamp\n",
    "\n",
    "# Create a Spark session\n",
    "spark = SparkSession.builder.appName(\"CustomerTable\").getOrCreate()\n",
    "\n",
    "# Retrieve MySQL credentials from environment variables\n",
    "mysql_user = os.environ.get(\"MYSQL_USER\")\n",
    "mysql_password = os.environ.get(\"MYSQL_PASSWORD\")\n",
    "\n",
    "# Create a DataFrame to represent the customers table with 'created_at' and 'updated_at' columns\n",
    "customers_data = [\n",
    "    (\"1\", \"Scott\", \"Haines\", \"scott@coffeeco.com\"),\n",
    "    (\"2\", \"John\", \"Hamm\", \"john.hamm@acme.com\"),\n",
    "    (\"3\", \"Milo\", \"Haines\", \"mhaines@coffeeco.com\")\n",
    "]\n",
    "\n",
    "columns = [\"id\", \"first_name\", \"last_name\", \"email\"]\n",
    "customers_df = spark.createDataFrame(customers_data, columns)\n",
    "\n",
    "# Add 'created_at' and 'updated_at' columns with default values\n",
    "customers_df = customers_df.withColumn(\"created_at\", current_timestamp())\n",
    "customers_df = customers_df.withColumn(\"updated_at\", current_timestamp())\n",
    "\n",
    "# Configure the MySQL JDBC URL\n",
    "mysql_url = \"jdbc:mysql://localhost:3306/default\"\n",
    "\n",
    "# Set the MySQL credentials using the environment variables\n",
    "mysql_properties = {\n",
    "    \"user\": mysql_user,\n",
    "    \"password\": mysql_password,\n",
    "    \"driver\": \"com.mysql.jdbc.Driver\"\n",
    "}\n",
    "\n",
    "# Write the DataFrame to the MySQL database\n",
    "customers_df.write.jdbc(url=mysql_url, table=\"customers\", mode=\"overwrite\", properties=mysql_properties)"
   ]
  }
 ],
 "metadata": {
  "kernelspec": {
   "display_name": "Python 3 (ipykernel)",
   "language": "python",
   "name": "python3"
  },
  "language_info": {
   "codemirror_mode": {
    "name": "ipython",
    "version": 3
   },
   "file_extension": ".py",
   "mimetype": "text/x-python",
   "name": "python",
   "nbconvert_exporter": "python",
   "pygments_lexer": "ipython3",
   "version": "3.9.7"
  }
 },
 "nbformat": 4,
 "nbformat_minor": 5
}

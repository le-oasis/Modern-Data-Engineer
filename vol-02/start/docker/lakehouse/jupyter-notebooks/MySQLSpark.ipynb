{
 "cells": [
  {
   "cell_type": "markdown",
   "metadata": {},
   "source": [
    "# MySQL DataSource via JDBC DataFrameReader"
   ]
  },
  {
   "cell_type": "code",
   "execution_count": 11,
   "metadata": {},
   "outputs": [],
   "source": [
    "## Importing the required libraries\n",
    "import os\n",
    "# Import required modules\n",
    "from pyspark.sql import SparkSession\n",
    "from pyspark.sql.functions import *\n",
    "from datetime import datetime\n",
    "from pyspark.sql.functions import col\n",
    "from pyspark.sql import functions as f\n",
    "from pyspark.sql import *\n",
    "from pyspark.sql.types import *\n",
    "\n",
    "\n",
    "from pyspark.sql import SparkSession\n",
    "from pyspark.sql import Row\n",
    "from pyspark.sql.types import TimestampType\n",
    "from pyspark.sql.functions import current_timestamp\n",
    "from datetime import datetime"
   ]
  },
  {
   "cell_type": "markdown",
   "metadata": {},
   "source": [
    "## Create Spark Session"
   ]
  },
  {
   "cell_type": "code",
   "execution_count": 4,
   "metadata": {},
   "outputs": [],
   "source": [
    "# Create a SparkSession and set the extraClassPath configuration\n",
    "spark = SparkSession.builder.master(\"local[1]\") \\\n",
    "    .appName(\"MySQLSpark\") \\\n",
    "    .config(\"spark.driver.extraClassPath\", \"/home/jovyan/work/jars/*\") \\\n",
    "    .getOrCreate()\n",
    "spark.sparkContext.setLogLevel(\"ERROR\")"
   ]
  },
  {
   "cell_type": "code",
   "execution_count": 5,
   "metadata": {},
   "outputs": [
    {
     "name": "stdout",
     "output_type": "stream",
     "text": [
      "spark.driver.port=43369\n",
      "spark.executor.id=driver\n",
      "spark.app.name=MySQLSpark\n",
      "spark.driver.host=myjupyter\n",
      "spark.app.startTime=1694864450626\n",
      "spark.driver.extraClassPath=/home/jovyan/work/jars/*\n",
      "spark.sql.warehouse.dir=file:/home/jovyan/work/notebooks/spark-warehouse\n",
      "spark.rdd.compress=True\n",
      "spark.serializer.objectStreamReset=100\n",
      "spark.submit.pyFiles=\n",
      "spark.submit.deployMode=client\n",
      "spark.app.id=local-1694864452675\n",
      "spark.ui.showConsoleProgress=true\n",
      "spark.master=local[1]\n"
     ]
    }
   ],
   "source": [
    "# To check the configuration\n",
    "\n",
    "# Get the Spark configuration settings\n",
    "config_settings = spark.sparkContext.getConf().getAll()\n",
    "\n",
    "# Format the configuration settings as a string\n",
    "formatted_settings = \"\\n\".join([f\"{key}={value}\" for key, value in config_settings])\n",
    "\n",
    "# Print the formatted settings\n",
    "print(formatted_settings)\n",
    " "
   ]
  },
  {
   "cell_type": "markdown",
   "metadata": {},
   "source": [
    "### Extract data from MySQL"
   ]
  },
  {
   "cell_type": "code",
   "execution_count": 6,
   "metadata": {},
   "outputs": [
    {
     "name": "stdout",
     "output_type": "stream",
     "text": [
      "+---+-------------------+-------------------+----------+---------+-------------------+\n",
      "| id|            created|            updated|first_name|last_name|              email|\n",
      "+---+-------------------+-------------------+----------+---------+-------------------+\n",
      "|  1|2021-02-21 21:00:00|2023-09-16 11:35:27|     Penny|   Haines| penny@coffeeco.com|\n",
      "|  2|2021-02-21 22:00:00|2023-09-16 11:35:27|     Cloud|     Fast|cloud.fast@acme.com|\n",
      "|  3|2021-02-21 23:00:00|2023-09-16 11:35:27|   Marshal|   Haines|  paws@coffeeco.com|\n",
      "+---+-------------------+-------------------+----------+---------+-------------------+\n",
      "\n",
      "root\n",
      " |-- id: integer (nullable = true)\n",
      " |-- created: timestamp (nullable = true)\n",
      " |-- updated: timestamp (nullable = true)\n",
      " |-- first_name: string (nullable = true)\n",
      " |-- last_name: string (nullable = true)\n",
      " |-- email: string (nullable = true)\n",
      "\n"
     ]
    }
   ],
   "source": [
    "# Establish a connection to the database\n",
    "# Define MySQL JDBC connection properties\n",
    "mysql_props = {\n",
    "    \"url\": \"jdbc:mysql://mysql:3306/default\",  # Change the host, port, and database name as needed\n",
    "    \"dbtable\": \"customers\",\n",
    "    \"user\": \"dataeng\",  # Change the username and password as needed\n",
    "    \"password\": \"dataengineering_user\",\n",
    "    \"driver\": \"org.mariadb.jdbc.Driver\"  # Use the appropriate JDBC driver\n",
    "}\n",
    "\n",
    "# Load data from MySQL table\n",
    "customers_df = spark.read \\\n",
    "    .format(\"jdbc\") \\\n",
    "    .options(**mysql_props) \\\n",
    "    .load()\n",
    "\n",
    "# Show the DataFrame\n",
    "customers_df.show()\n",
    "\n",
    "# Print the schema of the DataFrame\n",
    "customers_df.printSchema()"
   ]
  },
  {
   "cell_type": "markdown",
   "metadata": {},
   "source": [
    "## Create New Entries"
   ]
  },
  {
   "cell_type": "code",
   "execution_count": 7,
   "metadata": {},
   "outputs": [
    {
     "name": "stdout",
     "output_type": "stream",
     "text": [
      "+---+-------------------+--------------------+----------+---------+-------------------+\n",
      "| id|            created|             updated|first_name|last_name|              email|\n",
      "+---+-------------------+--------------------+----------+---------+-------------------+\n",
      "|  4|2021-02-21 21:00:00|2023-09-16 11:41:...|     Penny|   Haines| penny@coffeeco.com|\n",
      "|  5|2021-02-21 22:00:00|2023-09-16 11:41:...|     Cloud|     Fast|cloud.fast@acme.com|\n",
      "|  6|2021-02-21 23:00:00|2023-09-16 11:41:...|   Marshal|   Haines|  paws@coffeeco.com|\n",
      "+---+-------------------+--------------------+----------+---------+-------------------+\n",
      "\n"
     ]
    }
   ],
   "source": [
    "\n",
    "\n",
    "\n",
    "# Define the timestamp conversion function\n",
    "def ts(timeStr):\n",
    "    return datetime.strptime(timeStr, '%Y-%m-%d %H:%M:%S')\n",
    "\n",
    "# Create a function to get the current timestamp\n",
    "def time():\n",
    "    return datetime.now()\n",
    "\n",
    "# Create some new customers\n",
    "records = [\n",
    "    Row(\"4\", ts(\"2021-02-21 21:00:00\"), time(), \"Penny\", \"Haines\", \"penny@coffeeco.com\"),\n",
    "    Row(\"5\", ts(\"2021-02-21 22:00:00\"), time(), \"Cloud\", \"Fast\", \"cloud.fast@acme.com\"),\n",
    "    Row(\"6\", ts(\"2021-02-21 23:00:00\"), time(), \"Marshal\", \"Haines\", \"paws@coffeeco.com\")\n",
    "]\n",
    "\n",
    "# Define the schema for the new customers DataFrame\n",
    "schema = [\n",
    "    \"id\", \"created\", \"updated\", \"first_name\", \"last_name\", \"email\"\n",
    "]\n",
    "\n",
    "# Create a DataFrame from the new records\n",
    "new_customers = spark.createDataFrame(records, schema)\n",
    "\n",
    "# Show the new DataFrame\n",
    "new_customers.show()"
   ]
  },
  {
   "cell_type": "code",
   "execution_count": null,
   "metadata": {},
   "outputs": [],
   "source": []
  },
  {
   "cell_type": "code",
   "execution_count": null,
   "metadata": {},
   "outputs": [],
   "source": []
  },
  {
   "cell_type": "markdown",
   "metadata": {},
   "source": [
    "## Load Table into MySQL & Append"
   ]
  },
  {
   "cell_type": "code",
   "execution_count": 8,
   "metadata": {},
   "outputs": [],
   "source": [
    "# Define the JDBC connection properties\n",
    "mysql_props = {\n",
    "    \"url\": \"jdbc:mysql://mysql:3306/default\",  # Change the host, port, and database name as needed\n",
    "    \"dbtable\": \"Customers\",  # The name of the MySQL table to which you want to write the data\n",
    "    \"user\": \"dataeng\",  # Change the username and password as needed\n",
    "    \"password\": \"dataengineering_user\",\n",
    "    \"driver\": \"org.mariadb.jdbc.Driver\"  # Use the appropriate JDBC driver\n",
    "}\n",
    "\n",
    "# Write the newCustomers DataFrame to the MySQL table\n",
    "new_customers.write \\\n",
    "    .format(\"jdbc\") \\\n",
    "    .mode(\"append\") \\\n",
    "    .options(**mysql_props) \\\n",
    "    .save()"
   ]
  },
  {
   "cell_type": "code",
   "execution_count": null,
   "metadata": {},
   "outputs": [],
   "source": []
  },
  {
   "cell_type": "code",
   "execution_count": null,
   "metadata": {},
   "outputs": [],
   "source": []
  },
  {
   "cell_type": "code",
   "execution_count": 9,
   "metadata": {},
   "outputs": [
    {
     "name": "stdout",
     "output_type": "stream",
     "text": [
      "+---+-------------------+-------------------+----------+---------+-------------------+\n",
      "| id|            created|            updated|first_name|last_name|              email|\n",
      "+---+-------------------+-------------------+----------+---------+-------------------+\n",
      "|  1|2021-02-21 21:00:00|2023-09-16 11:35:27|     Penny|   Haines| penny@coffeeco.com|\n",
      "|  2|2021-02-21 22:00:00|2023-09-16 11:35:27|     Cloud|     Fast|cloud.fast@acme.com|\n",
      "|  3|2021-02-21 23:00:00|2023-09-16 11:35:27|   Marshal|   Haines|  paws@coffeeco.com|\n",
      "|  4|2021-02-21 21:00:00|2023-09-16 11:41:07|     Penny|   Haines| penny@coffeeco.com|\n",
      "|  5|2021-02-21 22:00:00|2023-09-16 11:41:07|     Cloud|     Fast|cloud.fast@acme.com|\n",
      "|  6|2021-02-21 23:00:00|2023-09-16 11:41:07|   Marshal|   Haines|  paws@coffeeco.com|\n",
      "+---+-------------------+-------------------+----------+---------+-------------------+\n",
      "\n"
     ]
    }
   ],
   "source": [
    "# Define the JDBC connection properties for reading\n",
    "mysql_read_props = {\n",
    "    \"url\": \"jdbc:mysql://mysql:3306/default\",  # Change the host, port, and database name as needed\n",
    "    \"dbtable\": \"Customers\",  # The name of the MySQL table to read data from\n",
    "    \"user\": \"dataeng\",  # Change the username and password as needed\n",
    "    \"password\": \"dataengineering_user\",\n",
    "    \"driver\": \"org.mariadb.jdbc.Driver\"  # Use the appropriate JDBC driver\n",
    "}\n",
    "\n",
    "# Read data from the MySQL table into a DataFrame\n",
    "customers_df = spark.read \\\n",
    "    .format(\"jdbc\") \\\n",
    "    .options(**mysql_read_props) \\\n",
    "    .load()\n",
    "\n",
    "# Show the content of the DataFrame\n",
    "customers_df.show()"
   ]
  },
  {
   "cell_type": "code",
   "execution_count": 10,
   "metadata": {},
   "outputs": [],
   "source": [
    "# # Combine the two DataFrames into one\n",
    "# combined_dfs = new_customers.union(customers_df)\n",
    "\n",
    "# # Add a new column with consecutive IDs\n",
    "# windowSpec = Window.orderBy(\"created\")\n",
    "# combined_dfs = combined_dfs.withColumn(\"id\", row_number().over(windowSpec))\n",
    "\n",
    "# # Show the combined DataFrame\n",
    "# combined_dfs.show()"
   ]
  },
  {
   "cell_type": "code",
   "execution_count": null,
   "metadata": {},
   "outputs": [],
   "source": []
  }
 ],
 "metadata": {
  "kernelspec": {
   "display_name": "Python 3 (ipykernel)",
   "language": "python",
   "name": "python3"
  },
  "language_info": {
   "codemirror_mode": {
    "name": "ipython",
    "version": 3
   },
   "file_extension": ".py",
   "mimetype": "text/x-python",
   "name": "python",
   "nbconvert_exporter": "python",
   "pygments_lexer": "ipython3",
   "version": "3.9.7"
  }
 },
 "nbformat": 4,
 "nbformat_minor": 4
}

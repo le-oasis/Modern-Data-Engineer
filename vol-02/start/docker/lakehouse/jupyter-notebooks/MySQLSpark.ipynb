{
 "cells": [
  {
   "cell_type": "markdown",
   "metadata": {},
   "source": [
    "# MySQL DataSource via JDBC DataFrameReader"
   ]
  },
  {
   "cell_type": "code",
   "execution_count": 1,
   "metadata": {},
   "outputs": [
    {
     "name": "stdout",
     "output_type": "stream",
     "text": [
      "Requirement already satisfied: python-decouple in /opt/conda/lib/python3.9/site-packages (3.8)\n",
      "Note: you may need to restart the kernel to use updated packages.\n"
     ]
    }
   ],
   "source": [
    "pip install python-decouple"
   ]
  },
  {
   "cell_type": "code",
   "execution_count": 2,
   "metadata": {},
   "outputs": [],
   "source": [
    "## Importing the required libraries\n",
    "import os\n",
    "# Import required modules\n",
    "from pyspark.sql import SparkSession\n",
    "from pyspark.sql.functions import *\n",
    "from datetime import datetime\n",
    "from pyspark.sql.functions import col\n",
    "from pyspark.sql import functions as f\n",
    "from pyspark.sql import *\n",
    "from pyspark.sql.types import *\n",
    "\n",
    "\n",
    "from pyspark.sql import SparkSession\n",
    "from pyspark.sql import Row\n",
    "from pyspark.sql.types import TimestampType\n",
    "from pyspark.sql.functions import current_timestamp\n",
    "from datetime import datetime"
   ]
  },
  {
   "cell_type": "markdown",
   "metadata": {},
   "source": [
    "## Create Spark Session"
   ]
  },
  {
   "cell_type": "code",
   "execution_count": 3,
   "metadata": {},
   "outputs": [],
   "source": [
    "# Create a SparkSession and set the extraClassPath configuration\n",
    "spark = SparkSession.builder.master(\"local[1]\") \\\n",
    "    .appName(\"MySQLSpark\") \\\n",
    "    .config(\"spark.driver.extraClassPath\", \"/home/jovyan/work/jars/*\") \\\n",
    "    .getOrCreate()\n",
    "spark.sparkContext.setLogLevel(\"ERROR\")"
   ]
  },
  {
   "cell_type": "code",
   "execution_count": 4,
   "metadata": {},
   "outputs": [
    {
     "name": "stdout",
     "output_type": "stream",
     "text": [
      "spark.hadoop.fs.s3a.connection.ssl.enabled=false\n",
      "spark.hadoop.fs.s3a.path.style.access=true\n",
      "spark.hadoop.fs.s3a.aws.credentials.provider=org.apache.hadoop.fs.s3a.SimpleAWSCredentialsProvider\n",
      "spark.app.name=MySQLSpark\n",
      "spark.driver.port=33881\n",
      "spark.driver.extraClassPath=/home/jovyan/work/jars/*\n",
      "spark.sql.hive.metastore.schema.verification=true\n",
      "spark.repl.local.jars=file:///home/jovyan/.ivy2/jars/io.delta_delta-core_2.12-2.0.0.jar,file:///home/jovyan/.ivy2/jars/io.delta_delta-storage-2.0.0.jar,file:///home/jovyan/.ivy2/jars/org.antlr_antlr4-runtime-4.8.jar,file:///home/jovyan/.ivy2/jars/org.codehaus.jackson_jackson-core-asl-1.9.13.jar\n",
      "spark.sql.hive.metastore.schema.verification.record.version=true\n",
      "spark.hadoop.fs.s3a.block.size=1000M\n",
      "spark.app.initial.jar.urls=spark://myjupyter:33881/jars/io.delta_delta-core_2.12-2.0.0.jar,spark://myjupyter:33881/jars/org.antlr_antlr4-runtime-4.8.jar,spark://myjupyter:33881/jars/org.codehaus.jackson_jackson-core-asl-1.9.13.jar,spark://myjupyter:33881/jars/io.delta_delta-storage-2.0.0.jar\n",
      "spark.hadoop.fs.s3a.endpoint=s3.amazonaws.com\n",
      "spark.serializer.objectStreamReset=100\n",
      "spark.submit.deployMode=client\n",
      "spark.sql.hive.metastore.version=2.3.9\n",
      "spark.master=local[1]\n",
      "spark.hadoop.fs.s3a.secret.key=\n",
      "spark.submit.pyFiles=/home/jovyan/.ivy2/jars/io.delta_delta-core_2.12-2.0.0.jar,/home/jovyan/.ivy2/jars/io.delta_delta-storage-2.0.0.jar,/home/jovyan/.ivy2/jars/org.antlr_antlr4-runtime-4.8.jar,/home/jovyan/.ivy2/jars/org.codehaus.jackson_jackson-core-asl-1.9.13.jar\n",
      "spark.sql.hive.metastore.sharedPrefixes=org.mariadb.jdbc,com.mysql.cj.jdbc,com.mysql.jdbc,org.postgresql,com.microsoft.sqlserver,oracle.jdbc\n",
      "spark.executor.id=driver\n",
      "spark.driver.host=myjupyter\n",
      "spark.app.id=local-1696848408040\n",
      "spark.sql.warehouse.dir=file:/home/jovyan/work/notebooks/spark-warehouse\n",
      "spark.app.startTime=1696848406897\n",
      "spark.hadoop.fs.s3a.impl=org.apache.hadoop.fs.s3a.S3AFileSystem\n",
      "spark.jars.packages=io.delta:delta-core_2.12:2.0.0\n",
      "spark.files=file:///home/jovyan/.ivy2/jars/io.delta_delta-core_2.12-2.0.0.jar,file:///home/jovyan/.ivy2/jars/io.delta_delta-storage-2.0.0.jar,file:///home/jovyan/.ivy2/jars/org.antlr_antlr4-runtime-4.8.jar,file:///home/jovyan/.ivy2/jars/org.codehaus.jackson_jackson-core-asl-1.9.13.jar\n",
      "spark.sql.catalogImplementation=hive\n",
      "spark.sql.extensions=io.delta.sql.DeltaSparkSessionExtension\n",
      "spark.sql.hive.metastore.jars=builtin\n",
      "spark.rdd.compress=True\n",
      "spark.hadoop.fs.s3a.access.key=\n",
      "spark.app.initial.file.urls=file:///home/jovyan/.ivy2/jars/org.codehaus.jackson_jackson-core-asl-1.9.13.jar,file:///home/jovyan/.ivy2/jars/io.delta_delta-storage-2.0.0.jar,file:///home/jovyan/.ivy2/jars/org.antlr_antlr4-runtime-4.8.jar,file:///home/jovyan/.ivy2/jars/io.delta_delta-core_2.12-2.0.0.jar\n",
      "spark.jars=file:///home/jovyan/.ivy2/jars/io.delta_delta-core_2.12-2.0.0.jar,file:///home/jovyan/.ivy2/jars/io.delta_delta-storage-2.0.0.jar,file:///home/jovyan/.ivy2/jars/org.antlr_antlr4-runtime-4.8.jar,file:///home/jovyan/.ivy2/jars/org.codehaus.jackson_jackson-core-asl-1.9.13.jar\n",
      "spark.ui.showConsoleProgress=true\n",
      "spark.sql.catalog.spark_catalog=org.apache.spark.sql.delta.catalog.DeltaCatalog\n"
     ]
    }
   ],
   "source": [
    "# To check the configuration\n",
    "\n",
    "# Get the Spark configuration settings\n",
    "config_settings = spark.sparkContext.getConf().getAll()\n",
    "\n",
    "# Format the configuration settings as a string\n",
    "formatted_settings = \"\\n\".join([f\"{key}={value}\" for key, value in config_settings])\n",
    "\n",
    "# Print the formatted settings\n",
    "print(formatted_settings)\n",
    " "
   ]
  },
  {
   "cell_type": "markdown",
   "metadata": {},
   "source": [
    "### Extract data from MySQL"
   ]
  },
  {
   "cell_type": "code",
   "execution_count": 5,
   "metadata": {},
   "outputs": [],
   "source": [
    "from decouple import config\n",
    "\n",
    "# Load database login details from .env file\n",
    "db_host = config('DB_HOST')  # Replace 'DB_HOST' with the actual key in your .env file\n",
    "db_port = config('DB_PORT')  # Replace 'DB_PORT' with the actual key in your .env file\n",
    "db_name = config('DB_NAME')  # Replace 'DB_NAME' with the actual key in your .env file\n",
    "db_user = config('DB_USER')  # Replace 'DB_USER' with the actual key in your .env file\n",
    "db_password = config('DB_PASSWORD')  # Replace 'DB_PASSWORD' with the actual key in your .env file\n",
    "db_driver = config('DB_DRIVER')  # Replace 'DB_DRIVER' with the actual key in your .env file\n",
    "\n",
    "# Define MySQL JDBC connection properties using the loaded values\n",
    "mysql_props = {\n",
    "    \"url\": f\"jdbc:mysql://{db_host}:{db_port}/{db_name}\",\n",
    "    \"dbtable\": \"bettercustomers\",\n",
    "    \"user\": db_user,\n",
    "    \"password\": db_password,\n",
    "    \"driver\": db_driver\n",
    "}"
   ]
  },
  {
   "cell_type": "markdown",
   "metadata": {},
   "source": [
    "### Load Data From MySQL"
   ]
  },
  {
   "cell_type": "code",
   "execution_count": 6,
   "metadata": {},
   "outputs": [
    {
     "name": "stdout",
     "output_type": "stream",
     "text": [
      "+---+-------------------+-------------------+----------+---------+--------------------+\n",
      "| id|            created|            updated|first_name|last_name|               email|\n",
      "+---+-------------------+-------------------+----------+---------+--------------------+\n",
      "|  1|2023-10-09 10:45:51|2023-10-09 10:45:51|      John|      Doe| johndoe@example.com|\n",
      "|  2|2023-10-09 10:45:51|2023-10-09 10:45:51|      Jane|    Smith|janesmith@example...|\n",
      "|  3|2023-10-09 10:45:51|2023-10-09 10:45:51|       Bob|  Johnson|bobjohnson@exampl...|\n",
      "|  4|2023-10-09 10:45:51|2023-10-09 10:45:51|     Alice|      Lee|alicelee@example.com|\n",
      "|  5|2023-10-09 10:45:51|2023-10-09 10:45:51|     David|      Kim|davidkim@example.com|\n",
      "|  6|2023-10-09 10:45:51|2023-10-09 10:45:51|     Linda|   Nguyen|lindanguyen@examp...|\n",
      "|  7|2023-10-09 10:45:51|2023-10-09 10:45:51|      Mike|   Garcia|mikegarcia@exampl...|\n",
      "|  8|2023-10-09 10:45:51|2023-10-09 10:45:51|     Emily|     Chen|emilychen@example...|\n",
      "|  9|2023-10-09 10:45:51|2023-10-09 10:45:51|      Ryan|     Wong|ryanwong@example.com|\n",
      "| 10|2023-10-09 10:45:51|2023-10-09 10:45:51|     Karen|     Zhao|karenzhao@example...|\n",
      "+---+-------------------+-------------------+----------+---------+--------------------+\n",
      "\n",
      "root\n",
      " |-- id: decimal(20,0) (nullable = true)\n",
      " |-- created: timestamp (nullable = true)\n",
      " |-- updated: timestamp (nullable = true)\n",
      " |-- first_name: string (nullable = true)\n",
      " |-- last_name: string (nullable = true)\n",
      " |-- email: string (nullable = true)\n",
      "\n"
     ]
    }
   ],
   "source": [
    "# Load data from MySQL table\n",
    "customers_df = spark.read \\\n",
    "    .format(\"jdbc\") \\\n",
    "    .options(**mysql_props) \\\n",
    "    .load()\n",
    "\n",
    "# Show the DataFrame\n",
    "customers_df.show()\n",
    "\n",
    "# Print the schema of the DataFrame\n",
    "customers_df.printSchema()"
   ]
  },
  {
   "cell_type": "code",
   "execution_count": null,
   "metadata": {},
   "outputs": [],
   "source": []
  },
  {
   "cell_type": "code",
   "execution_count": 11,
   "metadata": {},
   "outputs": [],
   "source": [
    "# Create a view for the customers DataFrame\n",
    "customers_df.createOrReplaceTempView(\"bettercustomers\")"
   ]
  },
  {
   "cell_type": "code",
   "execution_count": null,
   "metadata": {},
   "outputs": [],
   "source": []
  },
  {
   "cell_type": "code",
   "execution_count": 13,
   "metadata": {},
   "outputs": [
    {
     "name": "stdout",
     "output_type": "stream",
     "text": [
      "+---+-------------------+-------------------+----------+---------+--------------------+\n",
      "| id|            created|            updated|first_name|last_name|               email|\n",
      "+---+-------------------+-------------------+----------+---------+--------------------+\n",
      "|  1|2023-10-09 10:45:51|2023-10-09 10:45:51|      John|      Doe| johndoe@example.com|\n",
      "|  2|2023-10-09 10:45:51|2023-10-09 10:45:51|      Jane|    Smith|janesmith@example...|\n",
      "|  3|2023-10-09 10:45:51|2023-10-09 10:45:51|       Bob|  Johnson|bobjohnson@exampl...|\n",
      "|  4|2023-10-09 10:45:51|2023-10-09 10:45:51|     Alice|      Lee|alicelee@example.com|\n",
      "|  5|2023-10-09 10:45:51|2023-10-09 10:45:51|     David|      Kim|davidkim@example.com|\n",
      "+---+-------------------+-------------------+----------+---------+--------------------+\n",
      "\n"
     ]
    }
   ],
   "source": [
    "# Query the view \"bettercustomers_view\"\n",
    "result = spark.sql(\"\"\"\n",
    "    SELECT *\n",
    "    FROM bettercustomers\n",
    "    WHERE id BETWEEN 1 AND 5\n",
    "\"\"\")\n",
    "\n",
    "# Show the result of the query\n",
    "result.show()"
   ]
  },
  {
   "cell_type": "code",
   "execution_count": null,
   "metadata": {},
   "outputs": [],
   "source": []
  },
  {
   "cell_type": "code",
   "execution_count": 14,
   "metadata": {},
   "outputs": [
    {
     "ename": "AnalysisException",
     "evalue": "unknown requires that the data to be inserted have the same number of columns as the target table: target table has 6 column(s) but the inserted data has 5 column(s), including 0 partition column(s) having constant value(s).",
     "output_type": "error",
     "traceback": [
      "\u001b[0;31m---------------------------------------------------------------------------\u001b[0m",
      "\u001b[0;31mAnalysisException\u001b[0m                         Traceback (most recent call last)",
      "Input \u001b[0;32mIn [14]\u001b[0m, in \u001b[0;36m<module>\u001b[0;34m\u001b[0m\n\u001b[1;32m      1\u001b[0m \u001b[38;5;66;03m# Insert new entries (11-20) into the \"bettercustomers_view\" using Spark SQL\u001b[39;00m\n\u001b[0;32m----> 2\u001b[0m \u001b[43mspark\u001b[49m\u001b[38;5;241;43m.\u001b[39;49m\u001b[43msql\u001b[49m\u001b[43m(\u001b[49m\u001b[38;5;124;43m\"\"\"\u001b[39;49m\n\u001b[1;32m      3\u001b[0m \u001b[38;5;124;43m    INSERT INTO bettercustomers (first_name, last_name, email, created, updated)\u001b[39;49m\n\u001b[1;32m      4\u001b[0m \u001b[38;5;124;43m    VALUES\u001b[39;49m\n\u001b[1;32m      5\u001b[0m \u001b[38;5;124;43m        (\u001b[39;49m\u001b[38;5;124;43m'\u001b[39;49m\u001b[38;5;124;43mChris\u001b[39;49m\u001b[38;5;124;43m'\u001b[39;49m\u001b[38;5;124;43m, \u001b[39;49m\u001b[38;5;124;43m'\u001b[39;49m\u001b[38;5;124;43mWilson\u001b[39;49m\u001b[38;5;124;43m'\u001b[39;49m\u001b[38;5;124;43m, \u001b[39;49m\u001b[38;5;124;43m'\u001b[39;49m\u001b[38;5;124;43mchriswilson@example.com\u001b[39;49m\u001b[38;5;124;43m'\u001b[39;49m\u001b[38;5;124;43m, current_timestamp(), current_timestamp()),\u001b[39;49m\n\u001b[1;32m      6\u001b[0m \u001b[38;5;124;43m        (\u001b[39;49m\u001b[38;5;124;43m'\u001b[39;49m\u001b[38;5;124;43mEva\u001b[39;49m\u001b[38;5;124;43m'\u001b[39;49m\u001b[38;5;124;43m, \u001b[39;49m\u001b[38;5;124;43m'\u001b[39;49m\u001b[38;5;124;43mMartin\u001b[39;49m\u001b[38;5;124;43m'\u001b[39;49m\u001b[38;5;124;43m, \u001b[39;49m\u001b[38;5;124;43m'\u001b[39;49m\u001b[38;5;124;43mevamartin@example.com\u001b[39;49m\u001b[38;5;124;43m'\u001b[39;49m\u001b[38;5;124;43m, current_timestamp(), current_timestamp()),\u001b[39;49m\n\u001b[1;32m      7\u001b[0m \u001b[38;5;124;43m        (\u001b[39;49m\u001b[38;5;124;43m'\u001b[39;49m\u001b[38;5;124;43mMichael\u001b[39;49m\u001b[38;5;124;43m'\u001b[39;49m\u001b[38;5;124;43m, \u001b[39;49m\u001b[38;5;124;43m'\u001b[39;49m\u001b[38;5;124;43mThompson\u001b[39;49m\u001b[38;5;124;43m'\u001b[39;49m\u001b[38;5;124;43m, \u001b[39;49m\u001b[38;5;124;43m'\u001b[39;49m\u001b[38;5;124;43mmichaelthompson@example.com\u001b[39;49m\u001b[38;5;124;43m'\u001b[39;49m\u001b[38;5;124;43m, current_timestamp(), current_timestamp()),\u001b[39;49m\n\u001b[1;32m      8\u001b[0m \u001b[38;5;124;43m        (\u001b[39;49m\u001b[38;5;124;43m'\u001b[39;49m\u001b[38;5;124;43mOlivia\u001b[39;49m\u001b[38;5;124;43m'\u001b[39;49m\u001b[38;5;124;43m, \u001b[39;49m\u001b[38;5;124;43m'\u001b[39;49m\u001b[38;5;124;43mLopez\u001b[39;49m\u001b[38;5;124;43m'\u001b[39;49m\u001b[38;5;124;43m, \u001b[39;49m\u001b[38;5;124;43m'\u001b[39;49m\u001b[38;5;124;43molivialopez@example.com\u001b[39;49m\u001b[38;5;124;43m'\u001b[39;49m\u001b[38;5;124;43m, current_timestamp(), current_timestamp()),\u001b[39;49m\n\u001b[1;32m      9\u001b[0m \u001b[38;5;124;43m        (\u001b[39;49m\u001b[38;5;124;43m'\u001b[39;49m\u001b[38;5;124;43mDaniel\u001b[39;49m\u001b[38;5;124;43m'\u001b[39;49m\u001b[38;5;124;43m, \u001b[39;49m\u001b[38;5;124;43m'\u001b[39;49m\u001b[38;5;124;43mHall\u001b[39;49m\u001b[38;5;124;43m'\u001b[39;49m\u001b[38;5;124;43m, \u001b[39;49m\u001b[38;5;124;43m'\u001b[39;49m\u001b[38;5;124;43mdanielhall@example.com\u001b[39;49m\u001b[38;5;124;43m'\u001b[39;49m\u001b[38;5;124;43m, current_timestamp(), current_timestamp()),\u001b[39;49m\n\u001b[1;32m     10\u001b[0m \u001b[38;5;124;43m        (\u001b[39;49m\u001b[38;5;124;43m'\u001b[39;49m\u001b[38;5;124;43mSophia\u001b[39;49m\u001b[38;5;124;43m'\u001b[39;49m\u001b[38;5;124;43m, \u001b[39;49m\u001b[38;5;124;43m'\u001b[39;49m\u001b[38;5;124;43mGonzalez\u001b[39;49m\u001b[38;5;124;43m'\u001b[39;49m\u001b[38;5;124;43m, \u001b[39;49m\u001b[38;5;124;43m'\u001b[39;49m\u001b[38;5;124;43msophiagonzalez@example.com\u001b[39;49m\u001b[38;5;124;43m'\u001b[39;49m\u001b[38;5;124;43m, current_timestamp(), current_timestamp()),\u001b[39;49m\n\u001b[1;32m     11\u001b[0m \u001b[38;5;124;43m        (\u001b[39;49m\u001b[38;5;124;43m'\u001b[39;49m\u001b[38;5;124;43mWilliam\u001b[39;49m\u001b[38;5;124;43m'\u001b[39;49m\u001b[38;5;124;43m, \u001b[39;49m\u001b[38;5;124;43m'\u001b[39;49m\u001b[38;5;124;43mParker\u001b[39;49m\u001b[38;5;124;43m'\u001b[39;49m\u001b[38;5;124;43m, \u001b[39;49m\u001b[38;5;124;43m'\u001b[39;49m\u001b[38;5;124;43mwilliamparker@example.com\u001b[39;49m\u001b[38;5;124;43m'\u001b[39;49m\u001b[38;5;124;43m, current_timestamp(), current_timestamp()),\u001b[39;49m\n\u001b[1;32m     12\u001b[0m \u001b[38;5;124;43m        (\u001b[39;49m\u001b[38;5;124;43m'\u001b[39;49m\u001b[38;5;124;43mEmma\u001b[39;49m\u001b[38;5;124;43m'\u001b[39;49m\u001b[38;5;124;43m, \u001b[39;49m\u001b[38;5;124;43m'\u001b[39;49m\u001b[38;5;124;43mDavis\u001b[39;49m\u001b[38;5;124;43m'\u001b[39;49m\u001b[38;5;124;43m, \u001b[39;49m\u001b[38;5;124;43m'\u001b[39;49m\u001b[38;5;124;43memmadavis@example.com\u001b[39;49m\u001b[38;5;124;43m'\u001b[39;49m\u001b[38;5;124;43m, current_timestamp(), current_timestamp()),\u001b[39;49m\n\u001b[1;32m     13\u001b[0m \u001b[38;5;124;43m        (\u001b[39;49m\u001b[38;5;124;43m'\u001b[39;49m\u001b[38;5;124;43mAva\u001b[39;49m\u001b[38;5;124;43m'\u001b[39;49m\u001b[38;5;124;43m, \u001b[39;49m\u001b[38;5;124;43m'\u001b[39;49m\u001b[38;5;124;43mAdams\u001b[39;49m\u001b[38;5;124;43m'\u001b[39;49m\u001b[38;5;124;43m, \u001b[39;49m\u001b[38;5;124;43m'\u001b[39;49m\u001b[38;5;124;43mavaadams@example.com\u001b[39;49m\u001b[38;5;124;43m'\u001b[39;49m\u001b[38;5;124;43m, current_timestamp(), current_timestamp()),\u001b[39;49m\n\u001b[1;32m     14\u001b[0m \u001b[38;5;124;43m        (\u001b[39;49m\u001b[38;5;124;43m'\u001b[39;49m\u001b[38;5;124;43mJames\u001b[39;49m\u001b[38;5;124;43m'\u001b[39;49m\u001b[38;5;124;43m, \u001b[39;49m\u001b[38;5;124;43m'\u001b[39;49m\u001b[38;5;124;43mBaker\u001b[39;49m\u001b[38;5;124;43m'\u001b[39;49m\u001b[38;5;124;43m, \u001b[39;49m\u001b[38;5;124;43m'\u001b[39;49m\u001b[38;5;124;43mjamesbaker@example.com\u001b[39;49m\u001b[38;5;124;43m'\u001b[39;49m\u001b[38;5;124;43m, current_timestamp(), current_timestamp())\u001b[39;49m\n\u001b[1;32m     15\u001b[0m \u001b[38;5;124;43m\"\"\"\u001b[39;49m\u001b[43m)\u001b[49m\n\u001b[1;32m     17\u001b[0m \u001b[38;5;66;03m# Show the updated \"bettercustomers_view\" after insertion\u001b[39;00m\n\u001b[1;32m     18\u001b[0m spark\u001b[38;5;241m.\u001b[39msql(\u001b[38;5;124m\"\u001b[39m\u001b[38;5;124mSELECT * FROM bettercustomers\u001b[39m\u001b[38;5;124m\"\u001b[39m)\u001b[38;5;241m.\u001b[39mshow()\n",
      "File \u001b[0;32m/usr/local/spark/python/pyspark/sql/session.py:723\u001b[0m, in \u001b[0;36mSparkSession.sql\u001b[0;34m(self, sqlQuery)\u001b[0m\n\u001b[1;32m    707\u001b[0m \u001b[38;5;28;01mdef\u001b[39;00m \u001b[38;5;21msql\u001b[39m(\u001b[38;5;28mself\u001b[39m, sqlQuery):\n\u001b[1;32m    708\u001b[0m     \u001b[38;5;124;03m\"\"\"Returns a :class:`DataFrame` representing the result of the given query.\u001b[39;00m\n\u001b[1;32m    709\u001b[0m \n\u001b[1;32m    710\u001b[0m \u001b[38;5;124;03m    .. versionadded:: 2.0.0\u001b[39;00m\n\u001b[0;32m   (...)\u001b[0m\n\u001b[1;32m    721\u001b[0m \u001b[38;5;124;03m    [Row(f1=1, f2='row1'), Row(f1=2, f2='row2'), Row(f1=3, f2='row3')]\u001b[39;00m\n\u001b[1;32m    722\u001b[0m \u001b[38;5;124;03m    \"\"\"\u001b[39;00m\n\u001b[0;32m--> 723\u001b[0m     \u001b[38;5;28;01mreturn\u001b[39;00m DataFrame(\u001b[38;5;28;43mself\u001b[39;49m\u001b[38;5;241;43m.\u001b[39;49m\u001b[43m_jsparkSession\u001b[49m\u001b[38;5;241;43m.\u001b[39;49m\u001b[43msql\u001b[49m\u001b[43m(\u001b[49m\u001b[43msqlQuery\u001b[49m\u001b[43m)\u001b[49m, \u001b[38;5;28mself\u001b[39m\u001b[38;5;241m.\u001b[39m_wrapped)\n",
      "File \u001b[0;32m/usr/local/spark/python/lib/py4j-0.10.9.2-src.zip/py4j/java_gateway.py:1309\u001b[0m, in \u001b[0;36mJavaMember.__call__\u001b[0;34m(self, *args)\u001b[0m\n\u001b[1;32m   1303\u001b[0m command \u001b[38;5;241m=\u001b[39m proto\u001b[38;5;241m.\u001b[39mCALL_COMMAND_NAME \u001b[38;5;241m+\u001b[39m\\\n\u001b[1;32m   1304\u001b[0m     \u001b[38;5;28mself\u001b[39m\u001b[38;5;241m.\u001b[39mcommand_header \u001b[38;5;241m+\u001b[39m\\\n\u001b[1;32m   1305\u001b[0m     args_command \u001b[38;5;241m+\u001b[39m\\\n\u001b[1;32m   1306\u001b[0m     proto\u001b[38;5;241m.\u001b[39mEND_COMMAND_PART\n\u001b[1;32m   1308\u001b[0m answer \u001b[38;5;241m=\u001b[39m \u001b[38;5;28mself\u001b[39m\u001b[38;5;241m.\u001b[39mgateway_client\u001b[38;5;241m.\u001b[39msend_command(command)\n\u001b[0;32m-> 1309\u001b[0m return_value \u001b[38;5;241m=\u001b[39m \u001b[43mget_return_value\u001b[49m\u001b[43m(\u001b[49m\n\u001b[1;32m   1310\u001b[0m \u001b[43m    \u001b[49m\u001b[43manswer\u001b[49m\u001b[43m,\u001b[49m\u001b[43m \u001b[49m\u001b[38;5;28;43mself\u001b[39;49m\u001b[38;5;241;43m.\u001b[39;49m\u001b[43mgateway_client\u001b[49m\u001b[43m,\u001b[49m\u001b[43m \u001b[49m\u001b[38;5;28;43mself\u001b[39;49m\u001b[38;5;241;43m.\u001b[39;49m\u001b[43mtarget_id\u001b[49m\u001b[43m,\u001b[49m\u001b[43m \u001b[49m\u001b[38;5;28;43mself\u001b[39;49m\u001b[38;5;241;43m.\u001b[39;49m\u001b[43mname\u001b[49m\u001b[43m)\u001b[49m\n\u001b[1;32m   1312\u001b[0m \u001b[38;5;28;01mfor\u001b[39;00m temp_arg \u001b[38;5;129;01min\u001b[39;00m temp_args:\n\u001b[1;32m   1313\u001b[0m     temp_arg\u001b[38;5;241m.\u001b[39m_detach()\n",
      "File \u001b[0;32m/usr/local/spark/python/pyspark/sql/utils.py:117\u001b[0m, in \u001b[0;36mcapture_sql_exception.<locals>.deco\u001b[0;34m(*a, **kw)\u001b[0m\n\u001b[1;32m    113\u001b[0m converted \u001b[38;5;241m=\u001b[39m convert_exception(e\u001b[38;5;241m.\u001b[39mjava_exception)\n\u001b[1;32m    114\u001b[0m \u001b[38;5;28;01mif\u001b[39;00m \u001b[38;5;129;01mnot\u001b[39;00m \u001b[38;5;28misinstance\u001b[39m(converted, UnknownException):\n\u001b[1;32m    115\u001b[0m     \u001b[38;5;66;03m# Hide where the exception came from that shows a non-Pythonic\u001b[39;00m\n\u001b[1;32m    116\u001b[0m     \u001b[38;5;66;03m# JVM exception message.\u001b[39;00m\n\u001b[0;32m--> 117\u001b[0m     \u001b[38;5;28;01mraise\u001b[39;00m converted \u001b[38;5;28;01mfrom\u001b[39;00m \u001b[38;5;28mNone\u001b[39m\n\u001b[1;32m    118\u001b[0m \u001b[38;5;28;01melse\u001b[39;00m:\n\u001b[1;32m    119\u001b[0m     \u001b[38;5;28;01mraise\u001b[39;00m\n",
      "\u001b[0;31mAnalysisException\u001b[0m: unknown requires that the data to be inserted have the same number of columns as the target table: target table has 6 column(s) but the inserted data has 5 column(s), including 0 partition column(s) having constant value(s)."
     ]
    }
   ],
   "source": [
    "# Insert new entries (11-20) into the \"bettercustomers_view\" using Spark SQL\n",
    "spark.sql(\"\"\"\n",
    "    INSERT INTO bettercustomers (first_name, last_name, email, created, updated)\n",
    "    VALUES\n",
    "        ('Chris', 'Wilson', 'chriswilson@example.com', current_timestamp(), current_timestamp()),\n",
    "        ('Eva', 'Martin', 'evamartin@example.com', current_timestamp(), current_timestamp()),\n",
    "        ('Michael', 'Thompson', 'michaelthompson@example.com', current_timestamp(), current_timestamp()),\n",
    "        ('Olivia', 'Lopez', 'olivialopez@example.com', current_timestamp(), current_timestamp()),\n",
    "        ('Daniel', 'Hall', 'danielhall@example.com', current_timestamp(), current_timestamp()),\n",
    "        ('Sophia', 'Gonzalez', 'sophiagonzalez@example.com', current_timestamp(), current_timestamp()),\n",
    "        ('William', 'Parker', 'williamparker@example.com', current_timestamp(), current_timestamp()),\n",
    "        ('Emma', 'Davis', 'emmadavis@example.com', current_timestamp(), current_timestamp()),\n",
    "        ('Ava', 'Adams', 'avaadams@example.com', current_timestamp(), current_timestamp()),\n",
    "        ('James', 'Baker', 'jamesbaker@example.com', current_timestamp(), current_timestamp())\n",
    "\"\"\")\n",
    "\n",
    "# Show the updated \"bettercustomers_view\" after insertion\n",
    "spark.sql(\"SELECT * FROM bettercustomers\").show()"
   ]
  },
  {
   "cell_type": "code",
   "execution_count": null,
   "metadata": {},
   "outputs": [],
   "source": []
  },
  {
   "cell_type": "code",
   "execution_count": null,
   "metadata": {},
   "outputs": [],
   "source": []
  },
  {
   "cell_type": "code",
   "execution_count": null,
   "metadata": {},
   "outputs": [],
   "source": []
  },
  {
   "cell_type": "markdown",
   "metadata": {},
   "source": [
    "## Create New Entries"
   ]
  },
  {
   "cell_type": "code",
   "execution_count": 8,
   "metadata": {},
   "outputs": [
    {
     "name": "stdout",
     "output_type": "stream",
     "text": [
      "+---+-------------------+--------------------+----------+---------+--------------------+\n",
      "| id|            created|             updated|first_name|last_name|               email|\n",
      "+---+-------------------+--------------------+----------+---------+--------------------+\n",
      "|  1|2023-10-09 10:45:51| 2023-10-09 10:45:51|      John|      Doe| johndoe@example.com|\n",
      "|  2|2023-10-09 10:45:51| 2023-10-09 10:45:51|      Jane|    Smith|janesmith@example...|\n",
      "|  3|2023-10-09 10:45:51| 2023-10-09 10:45:51|       Bob|  Johnson|bobjohnson@exampl...|\n",
      "|  4|2023-10-09 10:45:51| 2023-10-09 10:45:51|     Alice|      Lee|alicelee@example.com|\n",
      "|  5|2023-10-09 10:45:51| 2023-10-09 10:45:51|     David|      Kim|davidkim@example.com|\n",
      "|  6|2023-10-09 10:45:51| 2023-10-09 10:45:51|     Linda|   Nguyen|lindanguyen@examp...|\n",
      "|  7|2023-10-09 10:45:51| 2023-10-09 10:45:51|      Mike|   Garcia|mikegarcia@exampl...|\n",
      "|  8|2023-10-09 10:45:51| 2023-10-09 10:45:51|     Emily|     Chen|emilychen@example...|\n",
      "|  9|2023-10-09 10:45:51| 2023-10-09 10:45:51|      Ryan|     Wong|ryanwong@example.com|\n",
      "| 10|2023-10-09 10:45:51| 2023-10-09 10:45:51|     Karen|     Zhao|karenzhao@example...|\n",
      "| 11|2023-10-09 11:00:00|2023-10-09 10:53:...|     Penny|   Haines|  penny@coffeeco.com|\n",
      "| 12|2023-10-09 12:00:00|2023-10-09 10:53:...|     Cloud|     Fast| cloud.fast@acme.com|\n",
      "| 13|2023-10-09 13:00:00|2023-10-09 10:53:...|   Marshal|   Haines|   paws@coffeeco.com|\n",
      "| 14|2023-10-09 14:00:00|2023-10-09 10:53:...|     Laura|    Smith|laura.smith@examp...|\n",
      "| 15|2023-10-09 15:00:00|2023-10-09 10:53:...|     Sarah|  Johnson|sarah.johnson@exa...|\n",
      "| 16|2023-10-09 16:00:00|2023-10-09 10:53:...|   Michael|      Lee|michael.lee@examp...|\n",
      "| 17|2023-10-09 17:00:00|2023-10-09 10:53:...|      Ella|      Kim|ella.kim@example.com|\n",
      "| 18|2023-10-09 18:00:00|2023-10-09 10:53:...|    Oliver|   Nguyen|oliver.nguyen@exa...|\n",
      "| 19|2023-10-09 19:00:00|2023-10-09 10:53:...|    Sophia|   Garcia|sophia.garcia@exa...|\n",
      "| 20|2023-10-09 20:00:00|2023-10-09 10:53:...|    Daniel|     Chen|daniel.chen@examp...|\n",
      "+---+-------------------+--------------------+----------+---------+--------------------+\n",
      "\n"
     ]
    }
   ],
   "source": [
    "# Define the timestamp conversion function\n",
    "def ts(timeStr):\n",
    "    return datetime.strptime(timeStr, '%Y-%m-%d %H:%M:%S')\n",
    "\n",
    "# Create a function to get the current timestamp\n",
    "def time():\n",
    "    return datetime.now()\n",
    "\n",
    "# Define the new records\n",
    "new_records = [\n",
    "    Row(\"11\", ts(\"2023-10-09 11:00:00\"), time(), \"Penny\", \"Haines\", \"penny@coffeeco.com\"),\n",
    "    Row(\"12\", ts(\"2023-10-09 12:00:00\"), time(), \"Cloud\", \"Fast\", \"cloud.fast@acme.com\"),\n",
    "    Row(\"13\", ts(\"2023-10-09 13:00:00\"), time(), \"Marshal\", \"Haines\", \"paws@coffeeco.com\"),\n",
    "    Row(\"14\", ts(\"2023-10-09 14:00:00\"), time(), \"Laura\", \"Smith\", \"laura.smith@example.com\"),\n",
    "    Row(\"15\", ts(\"2023-10-09 15:00:00\"), time(), \"Sarah\", \"Johnson\", \"sarah.johnson@example.com\"),\n",
    "    Row(\"16\", ts(\"2023-10-09 16:00:00\"), time(), \"Michael\", \"Lee\", \"michael.lee@example.com\"),\n",
    "    Row(\"17\", ts(\"2023-10-09 17:00:00\"), time(), \"Ella\", \"Kim\", \"ella.kim@example.com\"),\n",
    "    Row(\"18\", ts(\"2023-10-09 18:00:00\"), time(), \"Oliver\", \"Nguyen\", \"oliver.nguyen@example.com\"),\n",
    "    Row(\"19\", ts(\"2023-10-09 19:00:00\"), time(), \"Sophia\", \"Garcia\", \"sophia.garcia@example.com\"),\n",
    "    Row(\"20\", ts(\"2023-10-09 20:00:00\"), time(), \"Daniel\", \"Chen\", \"daniel.chen@example.com\")\n",
    "]\n",
    "\n",
    "# Define the schema for the new records DataFrame\n",
    "schema = [\n",
    "    \"id\", \"created\", \"updated\", \"first_name\", \"last_name\", \"email\"\n",
    "]\n",
    "\n",
    "# Create a DataFrame from the new records\n",
    "new_records_df = spark.createDataFrame(new_records, schema=schema)\n",
    "\n",
    "# Append the new records to the existing DataFrame\n",
    "existing_df = customers_df.union(new_records_df)\n",
    "\n",
    "# Show the updated DataFrame\n",
    "existing_df.show()"
   ]
  },
  {
   "cell_type": "code",
   "execution_count": null,
   "metadata": {},
   "outputs": [],
   "source": []
  },
  {
   "cell_type": "code",
   "execution_count": 9,
   "metadata": {},
   "outputs": [
    {
     "name": "stdout",
     "output_type": "stream",
     "text": [
      "+----+-------------------+--------------------+----------+---------+--------------------+\n",
      "|  id|            created|             updated|first_name|last_name|               email|\n",
      "+----+-------------------+--------------------+----------+---------+--------------------+\n",
      "|10.0|2023-10-09 10:45:51| 2023-10-09 10:45:51|      John|      Doe| johndoe@example.com|\n",
      "|11.0|2023-10-09 10:45:51| 2023-10-09 10:45:51|      Jane|    Smith|janesmith@example...|\n",
      "|12.0|2023-10-09 10:45:51| 2023-10-09 10:45:51|       Bob|  Johnson|bobjohnson@exampl...|\n",
      "|13.0|2023-10-09 10:45:51| 2023-10-09 10:45:51|     Alice|      Lee|alicelee@example.com|\n",
      "|14.0|2023-10-09 10:45:51| 2023-10-09 10:45:51|     David|      Kim|davidkim@example.com|\n",
      "|15.0|2023-10-09 10:45:51| 2023-10-09 10:45:51|     Linda|   Nguyen|lindanguyen@examp...|\n",
      "|16.0|2023-10-09 10:45:51| 2023-10-09 10:45:51|      Mike|   Garcia|mikegarcia@exampl...|\n",
      "|17.0|2023-10-09 10:45:51| 2023-10-09 10:45:51|     Emily|     Chen|emilychen@example...|\n",
      "|18.0|2023-10-09 10:45:51| 2023-10-09 10:45:51|      Ryan|     Wong|ryanwong@example.com|\n",
      "|19.0|2023-10-09 10:45:51| 2023-10-09 10:45:51|     Karen|     Zhao|karenzhao@example...|\n",
      "|20.0|2023-10-09 11:00:00|2023-10-09 10:53:...|     Penny|   Haines|  penny@coffeeco.com|\n",
      "|21.0|2023-10-09 12:00:00|2023-10-09 10:53:...|     Cloud|     Fast| cloud.fast@acme.com|\n",
      "|22.0|2023-10-09 13:00:00|2023-10-09 10:53:...|   Marshal|   Haines|   paws@coffeeco.com|\n",
      "|23.0|2023-10-09 14:00:00|2023-10-09 10:53:...|     Laura|    Smith|laura.smith@examp...|\n",
      "|24.0|2023-10-09 15:00:00|2023-10-09 10:53:...|     Sarah|  Johnson|sarah.johnson@exa...|\n",
      "|25.0|2023-10-09 16:00:00|2023-10-09 10:53:...|   Michael|      Lee|michael.lee@examp...|\n",
      "|26.0|2023-10-09 17:00:00|2023-10-09 10:53:...|      Ella|      Kim|ella.kim@example.com|\n",
      "|27.0|2023-10-09 18:00:00|2023-10-09 10:53:...|    Oliver|   Nguyen|oliver.nguyen@exa...|\n",
      "|28.0|2023-10-09 19:00:00|2023-10-09 10:53:...|    Sophia|   Garcia|sophia.garcia@exa...|\n",
      "|29.0|2023-10-09 20:00:00|2023-10-09 10:53:...|    Daniel|     Chen|daniel.chen@examp...|\n",
      "+----+-------------------+--------------------+----------+---------+--------------------+\n",
      "\n"
     ]
    }
   ],
   "source": [
    "# Calculate the maximum existing ID in the DataFrame\n",
    "max_existing_id = existing_df.selectExpr(\"max(id)\").collect()[0][0] or 0\n",
    "\n",
    "# Add an offset to the ID values to start from '1'\n",
    "existing_df = existing_df.withColumn(\"id\", existing_df[\"id\"] + max_existing_id)\n",
    "\n",
    "\n",
    "existing_df.show()"
   ]
  },
  {
   "cell_type": "code",
   "execution_count": null,
   "metadata": {},
   "outputs": [],
   "source": []
  },
  {
   "cell_type": "code",
   "execution_count": null,
   "metadata": {},
   "outputs": [],
   "source": []
  },
  {
   "cell_type": "code",
   "execution_count": null,
   "metadata": {},
   "outputs": [],
   "source": []
  },
  {
   "cell_type": "markdown",
   "metadata": {},
   "source": [
    "### Write into JDBC"
   ]
  },
  {
   "cell_type": "code",
   "execution_count": 33,
   "metadata": {},
   "outputs": [],
   "source": [
    "# Write the appended DataFrame back to the database or another storage format\n",
    "# Write the appended DataFrame back to the database using the values from .env\n",
    "# Define your database connection details (you can also load them from .env)\n",
    "db_host = \"mysql\"  # Replace with your MySQL host\n",
    "db_port = \"3306\"    # Replace with your MySQL port\n",
    "db_name = \"default\" # Replace with your database name\n",
    "db_user = \"dataeng\" # Replace with your MySQL username\n",
    "db_password = \"dataengineering_user\" # Replace with your MySQL password\n",
    "\n",
    "# Define the JDBC URL\n",
    "jdbc_url = f\"jdbc:mysql://{db_host}:{db_port}/{db_name}\"\n",
    "\n",
    "# Define the table name\n",
    "table_name = \"bettercustomers\"  # Replace with your desired table name\n",
    "\n",
    "# Write the updated DataFrame to the \"bettercustomers\" table in MySQL\n",
    "existing_df.write \\\n",
    "    .format(\"jdbc\") \\\n",
    "    .option(\"url\", jdbc_url) \\\n",
    "    .option(\"dbtable\", table_name) \\\n",
    "    .option(\"user\", db_user) \\\n",
    "    .option(\"password\", db_password) \\\n",
    "    .option(\"driver\", \"org.mariadb.jdbc.Driver\") \\\n",
    "    .mode(\"overwrite\") \\\n",
    "    .save()"
   ]
  },
  {
   "cell_type": "code",
   "execution_count": null,
   "metadata": {},
   "outputs": [],
   "source": []
  },
  {
   "cell_type": "code",
   "execution_count": 34,
   "metadata": {},
   "outputs": [],
   "source": [
    "df = spark.read \\\n",
    "    .format(\"jdbc\") \\\n",
    "    .option(\"url\", jdbc_url) \\\n",
    "    .option(\"dbtable\", table_name) \\\n",
    "    .option(\"user\", db_user) \\\n",
    "    .option(\"password\", db_password) \\\n",
    "    .option(\"driver\", \"org.mariadb.jdbc.Driver\") \\\n",
    "    .load()"
   ]
  },
  {
   "cell_type": "code",
   "execution_count": null,
   "metadata": {},
   "outputs": [],
   "source": []
  },
  {
   "cell_type": "code",
   "execution_count": 35,
   "metadata": {},
   "outputs": [
    {
     "name": "stdout",
     "output_type": "stream",
     "text": [
      "+---+-------------------+-------------------+----------+---------+--------------------+\n",
      "| id|            created|            updated|first_name|last_name|               email|\n",
      "+---+-------------------+-------------------+----------+---------+--------------------+\n",
      "| 11|2023-10-09 11:00:00|2023-10-09 10:37:48|     Penny|   Haines|  penny@coffeeco.com|\n",
      "| 12|2023-10-09 12:00:00|2023-10-09 10:37:48|     Cloud|     Fast| cloud.fast@acme.com|\n",
      "| 13|2023-10-09 13:00:00|2023-10-09 10:37:48|   Marshal|   Haines|   paws@coffeeco.com|\n",
      "| 14|2023-10-09 14:00:00|2023-10-09 10:37:48|     Laura|    Smith|laura.smith@examp...|\n",
      "| 15|2023-10-09 15:00:00|2023-10-09 10:37:48|     Sarah|  Johnson|sarah.johnson@exa...|\n",
      "| 16|2023-10-09 16:00:00|2023-10-09 10:37:48|   Michael|      Lee|michael.lee@examp...|\n",
      "| 17|2023-10-09 17:00:00|2023-10-09 10:37:48|      Ella|      Kim|ella.kim@example.com|\n",
      "| 18|2023-10-09 18:00:00|2023-10-09 10:37:48|    Oliver|   Nguyen|oliver.nguyen@exa...|\n",
      "| 19|2023-10-09 19:00:00|2023-10-09 10:37:48|    Sophia|   Garcia|sophia.garcia@exa...|\n",
      "| 20|2023-10-09 20:00:00|2023-10-09 10:37:48|    Daniel|     Chen|daniel.chen@examp...|\n",
      "+---+-------------------+-------------------+----------+---------+--------------------+\n",
      "\n"
     ]
    }
   ],
   "source": [
    "# Show the DataFrame\n",
    "df.show()"
   ]
  },
  {
   "cell_type": "code",
   "execution_count": null,
   "metadata": {},
   "outputs": [],
   "source": []
  },
  {
   "cell_type": "code",
   "execution_count": null,
   "metadata": {},
   "outputs": [],
   "source": []
  },
  {
   "cell_type": "code",
   "execution_count": 7,
   "metadata": {},
   "outputs": [
    {
     "name": "stdout",
     "output_type": "stream",
     "text": [
      "+---+-------------------+--------------------+----------+---------+-------------------+\n",
      "| id|            created|             updated|first_name|last_name|              email|\n",
      "+---+-------------------+--------------------+----------+---------+-------------------+\n",
      "|  4|2021-02-21 21:00:00|2023-09-16 11:41:...|     Penny|   Haines| penny@coffeeco.com|\n",
      "|  5|2021-02-21 22:00:00|2023-09-16 11:41:...|     Cloud|     Fast|cloud.fast@acme.com|\n",
      "|  6|2021-02-21 23:00:00|2023-09-16 11:41:...|   Marshal|   Haines|  paws@coffeeco.com|\n",
      "+---+-------------------+--------------------+----------+---------+-------------------+\n",
      "\n"
     ]
    }
   ],
   "source": [
    "# Define the timestamp conversion function\n",
    "def ts(timeStr):\n",
    "    return datetime.strptime(timeStr, '%Y-%m-%d %H:%M:%S')\n",
    "\n",
    "# Create a function to get the current timestamp\n",
    "def time():\n",
    "    return datetime.now()\n",
    "\n",
    "# Create some new customers\n",
    "records = [\n",
    "    Row(\"4\", ts(\"2021-02-21 21:00:00\"), time(), \"Penny\", \"Haines\", \"penny@coffeeco.com\"),\n",
    "    Row(\"5\", ts(\"2021-02-21 22:00:00\"), time(), \"Cloud\", \"Fast\", \"cloud.fast@acme.com\"),\n",
    "    Row(\"6\", ts(\"2021-02-21 23:00:00\"), time(), \"Marshal\", \"Haines\", \"paws@coffeeco.com\")\n",
    "]\n",
    "\n",
    "# Define the schema for the new customers DataFrame\n",
    "schema = [\n",
    "    \"id\", \"created\", \"updated\", \"first_name\", \"last_name\", \"email\"\n",
    "]\n",
    "\n",
    "# Create a DataFrame from the new records\n",
    "new_customers = spark.createDataFrame(records, schema)\n",
    "\n",
    "# Show the new DataFrame\n",
    "new_customers.show()"
   ]
  },
  {
   "cell_type": "code",
   "execution_count": null,
   "metadata": {},
   "outputs": [],
   "source": []
  },
  {
   "cell_type": "code",
   "execution_count": null,
   "metadata": {},
   "outputs": [],
   "source": []
  },
  {
   "cell_type": "code",
   "execution_count": null,
   "metadata": {},
   "outputs": [],
   "source": []
  },
  {
   "cell_type": "markdown",
   "metadata": {},
   "source": [
    "## Load Table into MySQL & Append"
   ]
  },
  {
   "cell_type": "code",
   "execution_count": 8,
   "metadata": {},
   "outputs": [],
   "source": [
    "# Define the JDBC connection properties\n",
    "mysql_props = {\n",
    "    \"url\": \"jdbc:mysql://mysql:3306/default\",  # Change the host, port, and database name as needed\n",
    "    \"dbtable\": \"Customers\",  # The name of the MySQL table to which you want to write the data\n",
    "    \"user\": \"dataeng\",  # Change the username and password as needed\n",
    "    \"password\": \"dataengineering_user\",\n",
    "    \"driver\": \"org.mariadb.jdbc.Driver\"  # Use the appropriate JDBC driver\n",
    "}\n",
    "\n",
    "# Write the newCustomers DataFrame to the MySQL table\n",
    "new_customers.write \\\n",
    "    .format(\"jdbc\") \\\n",
    "    .mode(\"append\") \\\n",
    "    .options(**mysql_props) \\\n",
    "    .save()"
   ]
  },
  {
   "cell_type": "code",
   "execution_count": null,
   "metadata": {},
   "outputs": [],
   "source": []
  },
  {
   "cell_type": "code",
   "execution_count": null,
   "metadata": {},
   "outputs": [],
   "source": []
  },
  {
   "cell_type": "code",
   "execution_count": 26,
   "metadata": {},
   "outputs": [
    {
     "name": "stdout",
     "output_type": "stream",
     "text": [
      "+---+-------------------+-------------------+----------+---------+-------------------+\n",
      "| id|            created|            updated|first_name|last_name|              email|\n",
      "+---+-------------------+-------------------+----------+---------+-------------------+\n",
      "|  4|2021-02-21 21:00:00|2023-10-09 10:00:55|     Penny|   Haines| penny@coffeeco.com|\n",
      "|  5|2021-02-21 22:00:00|2023-10-09 10:00:55|     Cloud|     Fast|cloud.fast@acme.com|\n",
      "|  6|2021-02-21 23:00:00|2023-10-09 10:00:55|   Marshal|   Haines|  paws@coffeeco.com|\n",
      "+---+-------------------+-------------------+----------+---------+-------------------+\n",
      "\n"
     ]
    }
   ],
   "source": [
    "# Define the JDBC connection properties for reading\n",
    "mysql_read_props = {\n",
    "    \"url\": \"jdbc:mysql://mysql:3306/default\",  # Change the host, port, and database name as needed\n",
    "    \"dbtable\": \"Customers\",  # The name of the MySQL table to read data from\n",
    "    \"user\": \"dataeng\",  # Change the username and password as needed\n",
    "    \"password\": \"dataengineering_user\",\n",
    "    \"driver\": \"org.mariadb.jdbc.Driver\"  # Use the appropriate JDBC driver\n",
    "}\n",
    "\n",
    "# Read data from the MySQL table into a DataFrame\n",
    "customers_df = spark.read \\\n",
    "    .format(\"jdbc\") \\\n",
    "    .options(**mysql_read_props) \\\n",
    "    .load()\n",
    "\n",
    "# Show the content of the DataFrame\n",
    "customers_df.show()"
   ]
  },
  {
   "cell_type": "code",
   "execution_count": 10,
   "metadata": {},
   "outputs": [],
   "source": [
    "# # Combine the two DataFrames into one\n",
    "# combined_dfs = new_customers.union(customers_df)\n",
    "\n",
    "# # Add a new column with consecutive IDs\n",
    "# windowSpec = Window.orderBy(\"created\")\n",
    "# combined_dfs = combined_dfs.withColumn(\"id\", row_number().over(windowSpec))\n",
    "\n",
    "# # Show the combined DataFrame\n",
    "# combined_dfs.show()"
   ]
  },
  {
   "cell_type": "code",
   "execution_count": null,
   "metadata": {},
   "outputs": [],
   "source": []
  }
 ],
 "metadata": {
  "kernelspec": {
   "display_name": "Python 3 (ipykernel)",
   "language": "python",
   "name": "python3"
  },
  "language_info": {
   "codemirror_mode": {
    "name": "ipython",
    "version": 3
   },
   "file_extension": ".py",
   "mimetype": "text/x-python",
   "name": "python",
   "nbconvert_exporter": "python",
   "pygments_lexer": "ipython3",
   "version": "3.9.7"
  }
 },
 "nbformat": 4,
 "nbformat_minor": 4
}

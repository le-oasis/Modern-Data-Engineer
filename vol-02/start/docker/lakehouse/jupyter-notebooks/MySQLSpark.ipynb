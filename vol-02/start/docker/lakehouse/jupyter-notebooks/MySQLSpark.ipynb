{
 "cells": [
  {
   "cell_type": "markdown",
   "metadata": {},
   "source": [
    "# MySQL DataSource via JDBC DataFrameReader"
   ]
  },
  {
   "cell_type": "code",
   "execution_count": 17,
   "metadata": {},
   "outputs": [],
   "source": [
    "## Importing the required libraries\n",
    "import os\n",
    "# Import required modules\n",
    "from pyspark.sql import SparkSession\n",
    "from pyspark.sql.functions import *\n",
    "from datetime import datetime\n",
    "from pyspark.sql.functions import col\n",
    "from pyspark.sql import functions as f\n",
    "from pyspark.sql import *\n",
    "from pyspark.sql.types import *"
   ]
  },
  {
   "cell_type": "markdown",
   "metadata": {},
   "source": [
    "## Create Spark Session"
   ]
  },
  {
   "cell_type": "code",
   "execution_count": 18,
   "metadata": {},
   "outputs": [],
   "source": [
    "# Create a SparkSession and set the extraClassPath configuration\n",
    "spark = SparkSession.builder.master(\"local[1]\") \\\n",
    "    .appName(\"MySQLSpark\") \\\n",
    "    .config(\"spark.driver.extraClassPath\", \"/home/jovyan/work/jars/*\") \\\n",
    "    .getOrCreate()\n",
    "spark.sparkContext.setLogLevel(\"ERROR\")"
   ]
  },
  {
   "cell_type": "code",
   "execution_count": 19,
   "metadata": {},
   "outputs": [
    {
     "name": "stdout",
     "output_type": "stream",
     "text": [
      "spark.app.id=local-1694794787556\n",
      "spark.app.startTime=1694794785302\n",
      "spark.executor.id=driver\n",
      "spark.app.name=MySQLSpark\n",
      "spark.driver.host=myjupyter\n",
      "spark.driver.extraClassPath=/home/jovyan/work/jars/*\n",
      "spark.sql.warehouse.dir=file:/home/jovyan/work/notebooks/spark-warehouse\n",
      "spark.rdd.compress=True\n",
      "spark.serializer.objectStreamReset=100\n",
      "spark.submit.pyFiles=\n",
      "spark.submit.deployMode=client\n",
      "spark.ui.showConsoleProgress=true\n",
      "spark.master=local[1]\n",
      "spark.driver.port=44929\n"
     ]
    }
   ],
   "source": [
    "# To check the configuration\n",
    "\n",
    "# Get the Spark configuration settings\n",
    "config_settings = spark.sparkContext.getConf().getAll()\n",
    "\n",
    "# Format the configuration settings as a string\n",
    "formatted_settings = \"\\n\".join([f\"{key}={value}\" for key, value in config_settings])\n",
    "\n",
    "# Print the formatted settings\n",
    "print(formatted_settings)\n",
    " "
   ]
  },
  {
   "cell_type": "markdown",
   "metadata": {},
   "source": [
    "### Extract data from MySQL"
   ]
  },
  {
   "cell_type": "code",
   "execution_count": 24,
   "metadata": {},
   "outputs": [
    {
     "name": "stdout",
     "output_type": "stream",
     "text": [
      "+---+-------------------+-------------------+----------+---------+--------------------+\n",
      "| id|            created|            updated|first_name|last_name|               email|\n",
      "+---+-------------------+-------------------+----------+---------+--------------------+\n",
      "|  1|2023-09-15 17:01:44|2023-09-15 17:01:44|     Scott|   Haines|  scott@coffeeco.com|\n",
      "|  2|2023-09-15 17:01:44|2023-09-15 17:01:44|      John|     Hamm|  john.hamm@acme.com|\n",
      "|  3|2023-09-15 17:01:44|2023-09-15 17:01:44|      Milo|   Haines|mhaines@coffeeco.com|\n",
      "+---+-------------------+-------------------+----------+---------+--------------------+\n",
      "\n",
      "root\n",
      " |-- id: string (nullable = true)\n",
      " |-- created: timestamp (nullable = true)\n",
      " |-- updated: timestamp (nullable = true)\n",
      " |-- first_name: string (nullable = true)\n",
      " |-- last_name: string (nullable = true)\n",
      " |-- email: string (nullable = true)\n",
      "\n"
     ]
    }
   ],
   "source": [
    "# Establish a connection to the database\n",
    "# Define MySQL JDBC connection properties\n",
    "mysql_props = {\n",
    "    \"url\": \"jdbc:mysql://mysql:3306/default\",  # Change the host, port, and database name as needed\n",
    "    \"dbtable\": \"customers\",\n",
    "    \"user\": \"dataeng\",  # Change the username and password as needed\n",
    "    \"password\": \"dataengineering_user\",\n",
    "    \"driver\": \"org.mariadb.jdbc.Driver\"  # Use the appropriate JDBC driver\n",
    "}\n",
    "\n",
    "# Load data from MySQL table\n",
    "customers_df = spark.read \\\n",
    "    .format(\"jdbc\") \\\n",
    "    .options(**mysql_props) \\\n",
    "    .load()\n",
    "\n",
    "# Show the DataFrame\n",
    "customers_df.show()\n",
    "\n",
    "# Print the schema of the DataFrame\n",
    "customers_df.printSchema()"
   ]
  },
  {
   "cell_type": "code",
   "execution_count": 5,
   "metadata": {},
   "outputs": [],
   "source": [
    "# grab a couple columns "
   ]
  },
  {
   "cell_type": "code",
   "execution_count": 25,
   "metadata": {},
   "outputs": [
    {
     "name": "stdout",
     "output_type": "stream",
     "text": [
      "+---+-------------------+--------------------+\n",
      "| id|            created|               email|\n",
      "+---+-------------------+--------------------+\n",
      "|  1|2023-09-15 17:01:44|  scott@coffeeco.com|\n",
      "|  2|2023-09-15 17:01:44|  john.hamm@acme.com|\n",
      "|  3|2023-09-15 17:01:44|mhaines@coffeeco.com|\n",
      "+---+-------------------+--------------------+\n",
      "\n"
     ]
    }
   ],
   "source": [
    "customers_df.select(\"id\", \"created\", \"email\").show()"
   ]
  },
  {
   "cell_type": "code",
   "execution_count": null,
   "metadata": {},
   "outputs": [],
   "source": []
  },
  {
   "cell_type": "code",
   "execution_count": null,
   "metadata": {},
   "outputs": [],
   "source": [
    "# Create a list of new records\n",
    "new_records_data = [\n",
    "    (4, \"John\", \"Doe\", \"johndoe@example.com\"),\n",
    "    (5, \"Jane\", \"Smith\", \"janesmith@example.com\"),\n",
    "    (6, \"Bob\", \"Johnson\", \"bobjohnson@example.com\"),\n",
    "    (7, \"Alice\", \"Lee\", \"alicelee@example.com\"),\n",
    "    (8, \"David\", \"Kim\", \"davidkim@example.com\"),\n",
    "    (9, \"Linda\", \"Nguyen\", \"lindanguyen@example.com\"),\n",
    "    (10, \"Mike\", \"Garcia\", \"mikegarcia@example.com\")\n",
    "]\n",
    "\n",
    "# Create a DataFrame for new records\n",
    "new_records_df = spark.createDataFrame(new_records_data, [\"id\", \"first_name\", \"last_name\", \"email\"])\n",
    "\n",
    "# Add the 'created' and 'updated' columns with the current timestamp\n",
    "from pyspark.sql.functions import current_timestamp\n",
    "new_records_df = new_records_df.withColumn(\"created\", current_timestamp())\n",
    "new_records_df = new_records_df.withColumn(\"updated\", current_timestamp())\n",
    "\n",
    "# Append new records to the existing DataFrame\n",
    "combined_df = customers_df.union(new_records_df)\n",
    "\n",
    "# Show the combined DataFrame\n",
    "combined_df.show()"
   ]
  },
  {
   "cell_type": "code",
   "execution_count": null,
   "metadata": {},
   "outputs": [],
   "source": []
  },
  {
   "cell_type": "code",
   "execution_count": null,
   "metadata": {},
   "outputs": [],
   "source": []
  }
 ],
 "metadata": {
  "kernelspec": {
   "display_name": "Python 3 (ipykernel)",
   "language": "python",
   "name": "python3"
  },
  "language_info": {
   "codemirror_mode": {
    "name": "ipython",
    "version": 3
   },
   "file_extension": ".py",
   "mimetype": "text/x-python",
   "name": "python",
   "nbconvert_exporter": "python",
   "pygments_lexer": "ipython3",
   "version": "3.9.7"
  }
 },
 "nbformat": 4,
 "nbformat_minor": 4
}

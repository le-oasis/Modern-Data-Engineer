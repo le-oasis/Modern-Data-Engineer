{
 "cells": [
  {
   "cell_type": "markdown",
   "metadata": {},
   "source": [
    "# MySQL DataSource via JDBC DataFrameReader"
   ]
  },
  {
   "cell_type": "code",
   "execution_count": 7,
   "metadata": {},
   "outputs": [
    {
     "name": "stdout",
     "output_type": "stream",
     "text": [
      "Requirement already satisfied: python-decouple in /opt/conda/lib/python3.9/site-packages (3.8)\n",
      "Note: you may need to restart the kernel to use updated packages.\n"
     ]
    }
   ],
   "source": [
    "pip install python-decouple"
   ]
  },
  {
   "cell_type": "code",
   "execution_count": 8,
   "metadata": {},
   "outputs": [],
   "source": [
    "## Importing the required libraries\n",
    "import os\n",
    "# Import required modules\n",
    "from pyspark.sql import SparkSession\n",
    "from pyspark.sql.functions import *\n",
    "from datetime import datetime\n",
    "from pyspark.sql.functions import col\n",
    "from pyspark.sql import functions as f\n",
    "from pyspark.sql import *\n",
    "from pyspark.sql.types import *\n",
    "\n",
    "\n",
    "from pyspark.sql import SparkSession\n",
    "from pyspark.sql import Row\n",
    "from pyspark.sql.types import TimestampType\n",
    "from pyspark.sql.functions import current_timestamp\n",
    "from datetime import datetime"
   ]
  },
  {
   "cell_type": "markdown",
   "metadata": {},
   "source": [
    "## Create Spark Session"
   ]
  },
  {
   "cell_type": "code",
   "execution_count": 9,
   "metadata": {},
   "outputs": [],
   "source": [
    "# Create a SparkSession and set the extraClassPath configuration\n",
    "spark = SparkSession.builder.master(\"local[1]\") \\\n",
    "    .appName(\"MySQLSpark\") \\\n",
    "    .config(\"spark.driver.extraClassPath\", \"/home/jovyan/work/jars/*\") \\\n",
    "    .getOrCreate()\n",
    "spark.sparkContext.setLogLevel(\"ERROR\")"
   ]
  },
  {
   "cell_type": "code",
   "execution_count": 10,
   "metadata": {},
   "outputs": [
    {
     "name": "stdout",
     "output_type": "stream",
     "text": [
      "spark.hadoop.fs.s3a.connection.ssl.enabled=false\n",
      "spark.hadoop.fs.s3a.path.style.access=true\n",
      "spark.hadoop.fs.s3a.aws.credentials.provider=org.apache.hadoop.fs.s3a.SimpleAWSCredentialsProvider\n",
      "spark.app.name=MySQLSpark\n",
      "spark.sql.hive.metastore.schema.verification=true\n",
      "spark.driver.extraClassPath=/home/jovyan/work/jars/*\n",
      "spark.repl.local.jars=file:///home/jovyan/.ivy2/jars/io.delta_delta-core_2.12-2.0.0.jar,file:///home/jovyan/.ivy2/jars/io.delta_delta-storage-2.0.0.jar,file:///home/jovyan/.ivy2/jars/org.antlr_antlr4-runtime-4.8.jar,file:///home/jovyan/.ivy2/jars/org.codehaus.jackson_jackson-core-asl-1.9.13.jar\n",
      "spark.sql.hive.metastore.schema.verification.record.version=true\n",
      "spark.hadoop.fs.s3a.block.size=1000M\n",
      "spark.driver.port=39457\n",
      "spark.hadoop.fs.s3a.endpoint=s3.amazonaws.com\n",
      "spark.serializer.objectStreamReset=100\n",
      "spark.submit.deployMode=client\n",
      "spark.sql.hive.metastore.version=2.3.9\n",
      "spark.master=local[1]\n",
      "spark.hadoop.fs.s3a.secret.key=\n",
      "spark.submit.pyFiles=/home/jovyan/.ivy2/jars/io.delta_delta-core_2.12-2.0.0.jar,/home/jovyan/.ivy2/jars/io.delta_delta-storage-2.0.0.jar,/home/jovyan/.ivy2/jars/org.antlr_antlr4-runtime-4.8.jar,/home/jovyan/.ivy2/jars/org.codehaus.jackson_jackson-core-asl-1.9.13.jar\n",
      "spark.app.startTime=1696846680568\n",
      "spark.sql.hive.metastore.sharedPrefixes=org.mariadb.jdbc,com.mysql.cj.jdbc,com.mysql.jdbc,org.postgresql,com.microsoft.sqlserver,oracle.jdbc\n",
      "spark.executor.id=driver\n",
      "spark.driver.host=myjupyter\n",
      "spark.sql.warehouse.dir=file:/home/jovyan/work/notebooks/spark-warehouse\n",
      "spark.hadoop.fs.s3a.impl=org.apache.hadoop.fs.s3a.S3AFileSystem\n",
      "spark.jars.packages=io.delta:delta-core_2.12:2.0.0\n",
      "spark.files=file:///home/jovyan/.ivy2/jars/io.delta_delta-core_2.12-2.0.0.jar,file:///home/jovyan/.ivy2/jars/io.delta_delta-storage-2.0.0.jar,file:///home/jovyan/.ivy2/jars/org.antlr_antlr4-runtime-4.8.jar,file:///home/jovyan/.ivy2/jars/org.codehaus.jackson_jackson-core-asl-1.9.13.jar\n",
      "spark.sql.catalogImplementation=hive\n",
      "spark.sql.extensions=io.delta.sql.DeltaSparkSessionExtension\n",
      "spark.sql.hive.metastore.jars=builtin\n",
      "spark.rdd.compress=True\n",
      "spark.hadoop.fs.s3a.access.key=\n",
      "spark.app.id=local-1696846681746\n",
      "spark.app.initial.file.urls=file:///home/jovyan/.ivy2/jars/org.codehaus.jackson_jackson-core-asl-1.9.13.jar,file:///home/jovyan/.ivy2/jars/io.delta_delta-storage-2.0.0.jar,file:///home/jovyan/.ivy2/jars/org.antlr_antlr4-runtime-4.8.jar,file:///home/jovyan/.ivy2/jars/io.delta_delta-core_2.12-2.0.0.jar\n",
      "spark.app.initial.jar.urls=spark://myjupyter:39457/jars/org.antlr_antlr4-runtime-4.8.jar,spark://myjupyter:39457/jars/io.delta_delta-core_2.12-2.0.0.jar,spark://myjupyter:39457/jars/org.codehaus.jackson_jackson-core-asl-1.9.13.jar,spark://myjupyter:39457/jars/io.delta_delta-storage-2.0.0.jar\n",
      "spark.jars=file:///home/jovyan/.ivy2/jars/io.delta_delta-core_2.12-2.0.0.jar,file:///home/jovyan/.ivy2/jars/io.delta_delta-storage-2.0.0.jar,file:///home/jovyan/.ivy2/jars/org.antlr_antlr4-runtime-4.8.jar,file:///home/jovyan/.ivy2/jars/org.codehaus.jackson_jackson-core-asl-1.9.13.jar\n",
      "spark.ui.showConsoleProgress=true\n",
      "spark.sql.catalog.spark_catalog=org.apache.spark.sql.delta.catalog.DeltaCatalog\n"
     ]
    }
   ],
   "source": [
    "# To check the configuration\n",
    "\n",
    "# Get the Spark configuration settings\n",
    "config_settings = spark.sparkContext.getConf().getAll()\n",
    "\n",
    "# Format the configuration settings as a string\n",
    "formatted_settings = \"\\n\".join([f\"{key}={value}\" for key, value in config_settings])\n",
    "\n",
    "# Print the formatted settings\n",
    "print(formatted_settings)\n",
    " "
   ]
  },
  {
   "cell_type": "markdown",
   "metadata": {},
   "source": [
    "### Extract data from MySQL"
   ]
  },
  {
   "cell_type": "code",
   "execution_count": 11,
   "metadata": {},
   "outputs": [],
   "source": [
    "from decouple import config\n",
    "\n",
    "# Load database login details from .env file\n",
    "db_host = config('DB_HOST')  # Replace 'DB_HOST' with the actual key in your .env file\n",
    "db_port = config('DB_PORT')  # Replace 'DB_PORT' with the actual key in your .env file\n",
    "db_name = config('DB_NAME')  # Replace 'DB_NAME' with the actual key in your .env file\n",
    "db_user = config('DB_USER')  # Replace 'DB_USER' with the actual key in your .env file\n",
    "db_password = config('DB_PASSWORD')  # Replace 'DB_PASSWORD' with the actual key in your .env file\n",
    "db_driver = config('DB_DRIVER')  # Replace 'DB_DRIVER' with the actual key in your .env file\n",
    "\n",
    "# Define MySQL JDBC connection properties using the loaded values\n",
    "mysql_props = {\n",
    "    \"url\": f\"jdbc:mysql://{db_host}:{db_port}/{db_name}\",\n",
    "    \"dbtable\": \"customers\",\n",
    "    \"user\": db_user,\n",
    "    \"password\": db_password,\n",
    "    \"driver\": db_driver\n",
    "}"
   ]
  },
  {
   "cell_type": "markdown",
   "metadata": {},
   "source": [
    "### Load Data From MySQL"
   ]
  },
  {
   "cell_type": "code",
   "execution_count": 6,
   "metadata": {},
   "outputs": [
    {
     "name": "stdout",
     "output_type": "stream",
     "text": [
      "+---+-------------------+-------------------+----------+---------+-------------------+\n",
      "| id|            created|            updated|first_name|last_name|              email|\n",
      "+---+-------------------+-------------------+----------+---------+-------------------+\n",
      "|  1|2021-02-21 21:00:00|2023-09-16 11:35:27|     Penny|   Haines| penny@coffeeco.com|\n",
      "|  2|2021-02-21 22:00:00|2023-09-16 11:35:27|     Cloud|     Fast|cloud.fast@acme.com|\n",
      "|  3|2021-02-21 23:00:00|2023-09-16 11:35:27|   Marshal|   Haines|  paws@coffeeco.com|\n",
      "+---+-------------------+-------------------+----------+---------+-------------------+\n",
      "\n",
      "root\n",
      " |-- id: integer (nullable = true)\n",
      " |-- created: timestamp (nullable = true)\n",
      " |-- updated: timestamp (nullable = true)\n",
      " |-- first_name: string (nullable = true)\n",
      " |-- last_name: string (nullable = true)\n",
      " |-- email: string (nullable = true)\n",
      "\n"
     ]
    }
   ],
   "source": [
    "# Load data from MySQL table\n",
    "customers_df = spark.read \\\n",
    "    .format(\"jdbc\") \\\n",
    "    .options(**mysql_props) \\\n",
    "    .load()\n",
    "\n",
    "# Show the DataFrame\n",
    "customers_df.show()\n",
    "\n",
    "# Print the schema of the DataFrame\n",
    "customers_df.printSchema()"
   ]
  },
  {
   "cell_type": "markdown",
   "metadata": {},
   "source": [
    "## Create New Entries"
   ]
  },
  {
   "cell_type": "code",
   "execution_count": 7,
   "metadata": {},
   "outputs": [
    {
     "name": "stdout",
     "output_type": "stream",
     "text": [
      "+---+-------------------+--------------------+----------+---------+-------------------+\n",
      "| id|            created|             updated|first_name|last_name|              email|\n",
      "+---+-------------------+--------------------+----------+---------+-------------------+\n",
      "|  4|2021-02-21 21:00:00|2023-09-16 11:41:...|     Penny|   Haines| penny@coffeeco.com|\n",
      "|  5|2021-02-21 22:00:00|2023-09-16 11:41:...|     Cloud|     Fast|cloud.fast@acme.com|\n",
      "|  6|2021-02-21 23:00:00|2023-09-16 11:41:...|   Marshal|   Haines|  paws@coffeeco.com|\n",
      "+---+-------------------+--------------------+----------+---------+-------------------+\n",
      "\n"
     ]
    }
   ],
   "source": [
    "\n",
    "\n",
    "\n",
    "# Define the timestamp conversion function\n",
    "def ts(timeStr):\n",
    "    return datetime.strptime(timeStr, '%Y-%m-%d %H:%M:%S')\n",
    "\n",
    "# Create a function to get the current timestamp\n",
    "def time():\n",
    "    return datetime.now()\n",
    "\n",
    "# Create some new customers\n",
    "records = [\n",
    "    Row(\"4\", ts(\"2021-02-21 21:00:00\"), time(), \"Penny\", \"Haines\", \"penny@coffeeco.com\"),\n",
    "    Row(\"5\", ts(\"2021-02-21 22:00:00\"), time(), \"Cloud\", \"Fast\", \"cloud.fast@acme.com\"),\n",
    "    Row(\"6\", ts(\"2021-02-21 23:00:00\"), time(), \"Marshal\", \"Haines\", \"paws@coffeeco.com\")\n",
    "]\n",
    "\n",
    "# Define the schema for the new customers DataFrame\n",
    "schema = [\n",
    "    \"id\", \"created\", \"updated\", \"first_name\", \"last_name\", \"email\"\n",
    "]\n",
    "\n",
    "# Create a DataFrame from the new records\n",
    "new_customers = spark.createDataFrame(records, schema)\n",
    "\n",
    "# Show the new DataFrame\n",
    "new_customers.show()"
   ]
  },
  {
   "cell_type": "code",
   "execution_count": null,
   "metadata": {},
   "outputs": [],
   "source": []
  },
  {
   "cell_type": "code",
   "execution_count": null,
   "metadata": {},
   "outputs": [],
   "source": []
  },
  {
   "cell_type": "markdown",
   "metadata": {},
   "source": [
    "## Load Table into MySQL & Append"
   ]
  },
  {
   "cell_type": "code",
   "execution_count": 8,
   "metadata": {},
   "outputs": [],
   "source": [
    "# Define the JDBC connection properties\n",
    "mysql_props = {\n",
    "    \"url\": \"jdbc:mysql://mysql:3306/default\",  # Change the host, port, and database name as needed\n",
    "    \"dbtable\": \"Customers\",  # The name of the MySQL table to which you want to write the data\n",
    "    \"user\": \"dataeng\",  # Change the username and password as needed\n",
    "    \"password\": \"dataengineering_user\",\n",
    "    \"driver\": \"org.mariadb.jdbc.Driver\"  # Use the appropriate JDBC driver\n",
    "}\n",
    "\n",
    "# Write the newCustomers DataFrame to the MySQL table\n",
    "new_customers.write \\\n",
    "    .format(\"jdbc\") \\\n",
    "    .mode(\"append\") \\\n",
    "    .options(**mysql_props) \\\n",
    "    .save()"
   ]
  },
  {
   "cell_type": "code",
   "execution_count": null,
   "metadata": {},
   "outputs": [],
   "source": []
  },
  {
   "cell_type": "code",
   "execution_count": null,
   "metadata": {},
   "outputs": [],
   "source": []
  },
  {
   "cell_type": "code",
   "execution_count": 9,
   "metadata": {},
   "outputs": [
    {
     "name": "stdout",
     "output_type": "stream",
     "text": [
      "+---+-------------------+-------------------+----------+---------+-------------------+\n",
      "| id|            created|            updated|first_name|last_name|              email|\n",
      "+---+-------------------+-------------------+----------+---------+-------------------+\n",
      "|  1|2021-02-21 21:00:00|2023-09-16 11:35:27|     Penny|   Haines| penny@coffeeco.com|\n",
      "|  2|2021-02-21 22:00:00|2023-09-16 11:35:27|     Cloud|     Fast|cloud.fast@acme.com|\n",
      "|  3|2021-02-21 23:00:00|2023-09-16 11:35:27|   Marshal|   Haines|  paws@coffeeco.com|\n",
      "|  4|2021-02-21 21:00:00|2023-09-16 11:41:07|     Penny|   Haines| penny@coffeeco.com|\n",
      "|  5|2021-02-21 22:00:00|2023-09-16 11:41:07|     Cloud|     Fast|cloud.fast@acme.com|\n",
      "|  6|2021-02-21 23:00:00|2023-09-16 11:41:07|   Marshal|   Haines|  paws@coffeeco.com|\n",
      "+---+-------------------+-------------------+----------+---------+-------------------+\n",
      "\n"
     ]
    }
   ],
   "source": [
    "# Define the JDBC connection properties for reading\n",
    "mysql_read_props = {\n",
    "    \"url\": \"jdbc:mysql://mysql:3306/default\",  # Change the host, port, and database name as needed\n",
    "    \"dbtable\": \"Customers\",  # The name of the MySQL table to read data from\n",
    "    \"user\": \"dataeng\",  # Change the username and password as needed\n",
    "    \"password\": \"dataengineering_user\",\n",
    "    \"driver\": \"org.mariadb.jdbc.Driver\"  # Use the appropriate JDBC driver\n",
    "}\n",
    "\n",
    "# Read data from the MySQL table into a DataFrame\n",
    "customers_df = spark.read \\\n",
    "    .format(\"jdbc\") \\\n",
    "    .options(**mysql_read_props) \\\n",
    "    .load()\n",
    "\n",
    "# Show the content of the DataFrame\n",
    "customers_df.show()"
   ]
  },
  {
   "cell_type": "code",
   "execution_count": 10,
   "metadata": {},
   "outputs": [],
   "source": [
    "# # Combine the two DataFrames into one\n",
    "# combined_dfs = new_customers.union(customers_df)\n",
    "\n",
    "# # Add a new column with consecutive IDs\n",
    "# windowSpec = Window.orderBy(\"created\")\n",
    "# combined_dfs = combined_dfs.withColumn(\"id\", row_number().over(windowSpec))\n",
    "\n",
    "# # Show the combined DataFrame\n",
    "# combined_dfs.show()"
   ]
  },
  {
   "cell_type": "code",
   "execution_count": null,
   "metadata": {},
   "outputs": [],
   "source": []
  }
 ],
 "metadata": {
  "kernelspec": {
   "display_name": "Python 3 (ipykernel)",
   "language": "python",
   "name": "python3"
  },
  "language_info": {
   "codemirror_mode": {
    "name": "ipython",
    "version": 3
   },
   "file_extension": ".py",
   "mimetype": "text/x-python",
   "name": "python",
   "nbconvert_exporter": "python",
   "pygments_lexer": "ipython3",
   "version": "3.9.7"
  }
 },
 "nbformat": 4,
 "nbformat_minor": 4
}

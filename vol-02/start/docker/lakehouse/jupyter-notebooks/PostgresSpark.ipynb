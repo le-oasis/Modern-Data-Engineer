{
 "cells": [
  {
   "cell_type": "markdown",
   "id": "f93bf0bd-02f2-4e30-a0c3-833ad5254c5b",
   "metadata": {},
   "source": [
    "# Postgres SQL & Spark\n",
    "\n",
    "- Learn to connect to Postgres, fetch table (schema) definitions, read, query, and write data using Apache Spark and Java Database Connectivity (JDBC)."
   ]
  },
  {
   "cell_type": "markdown",
   "id": "cfea35b1-2459-4b66-89a8-5334a50b3e9c",
   "metadata": {},
   "source": [
    "## Import Libraries"
   ]
  },
  {
   "cell_type": "code",
   "execution_count": 2,
   "id": "43ad25b2-8d38-47ec-b531-53aca14ebc3a",
   "metadata": {
    "tags": []
   },
   "outputs": [],
   "source": [
    "import os\n",
    "# Import required modules\n",
    "from pyspark.sql import SparkSession\n",
    "from pyspark.sql.functions import *\n",
    "from datetime import datetime\n",
    "from pyspark.sql.functions import col\n",
    "from pyspark.sql import functions as f\n",
    "from pyspark.sql import *\n",
    "from pyspark.sql.types import *\n",
    "# # Delta is a storage layer for data lakes\n",
    "# from delta.tables import * \n",
    "# # DeltaTable is the main class for Delta tables\n",
    "# from delta.tables import DeltaTable"
   ]
  },
  {
   "cell_type": "markdown",
   "id": "1dfbfd40-8a15-4ef3-9897-cdd13387a71d",
   "metadata": {},
   "source": [
    "## Initiate Spark Session"
   ]
  },
  {
   "cell_type": "code",
   "execution_count": 3,
   "id": "be682140-f95a-4916-9711-0886c7c882c8",
   "metadata": {
    "tags": []
   },
   "outputs": [],
   "source": [
    "# Create a SparkSession and set the extraClassPath configuration\n",
    "spark = SparkSession.builder.master(\"local[1]\") \\\n",
    "    .appName(\"PostgresSpark\") \\\n",
    "    .config(\"spark.driver.extraClassPath\", \"/home/jovyan/work/jars/*\") \\\n",
    "    .getOrCreate()\n",
    "spark.sparkContext.setLogLevel(\"ERROR\")"
   ]
  },
  {
   "cell_type": "markdown",
   "id": "0749a5e5-0f3c-42c5-8c09-c0921eb91233",
   "metadata": {},
   "source": [
    "## Extract Data"
   ]
  },
  {
   "cell_type": "code",
   "execution_count": 4,
   "id": "de5d712c-7b1f-48da-a5d9-7095e79f03c8",
   "metadata": {
    "tags": []
   },
   "outputs": [
    {
     "name": "stdout",
     "output_type": "stream",
     "text": [
      "+---+--------------------+--------------------+----------+---------+--------------------+\n",
      "| id|             created|             updated|first_name|last_name|               email|\n",
      "+---+--------------------+--------------------+----------+---------+--------------------+\n",
      "|  1|2023-09-15 15:34:...|2023-09-15 15:34:...|      John|      Doe| johndoe@example.com|\n",
      "|  2|2023-09-15 15:34:...|2023-09-15 15:34:...|      Jane|    Smith|janesmith@example...|\n",
      "|  3|2023-09-15 15:34:...|2023-09-15 15:34:...|       Bob|  Johnson|bobjohnson@exampl...|\n",
      "|  4|2023-09-15 15:34:...|2023-09-15 15:34:...|     Alice|      Lee|alicelee@example.com|\n",
      "|  5|2023-09-15 15:34:...|2023-09-15 15:34:...|     David|      Kim|davidkim@example.com|\n",
      "|  6|2023-09-15 15:34:...|2023-09-15 15:34:...|     Linda|   Nguyen|lindanguyen@examp...|\n",
      "|  7|2023-09-15 15:34:...|2023-09-15 15:34:...|      Mike|   Garcia|mikegarcia@exampl...|\n",
      "|  8|2023-09-15 15:34:...|2023-09-15 15:34:...|     Emily|     Chen|emilychen@example...|\n",
      "|  9|2023-09-15 15:34:...|2023-09-15 15:34:...|      Ryan|     Wong|ryanwong@example.com|\n",
      "| 10|2023-09-15 15:34:...|2023-09-15 15:34:...|     Karen|     Zhao|karenzhao@example...|\n",
      "+---+--------------------+--------------------+----------+---------+--------------------+\n",
      "\n"
     ]
    }
   ],
   "source": [
    "# load the data from the postgres database\n",
    "customers_sdf = spark.read.format(\"jdbc\") \\\n",
    "    .option(\"url\", \"jdbc:postgresql://oasispostgres:5432/oasiscorp\") \\\n",
    "    .option(\"dbtable\", \"bettercustomers\") \\\n",
    "    .option(\"user\", \"oasis\").option(\"password\", \"oasis\") \\\n",
    "    .load()\n",
    "\n",
    "# Show the contents of the DataFrame\n",
    "customers_sdf.show()"
   ]
  },
  {
   "cell_type": "code",
   "execution_count": null,
   "id": "d39d6877-4b3e-456f-b177-3b81856e2c4c",
   "metadata": {},
   "outputs": [],
   "source": []
  },
  {
   "cell_type": "markdown",
   "id": "93c7bd90-4d53-4cce-8d67-181bba748008",
   "metadata": {},
   "source": [
    "### View The Schema"
   ]
  },
  {
   "cell_type": "code",
   "execution_count": 5,
   "id": "c1c164e9-57ef-40bb-b914-491fde35005e",
   "metadata": {
    "tags": []
   },
   "outputs": [
    {
     "name": "stdout",
     "output_type": "stream",
     "text": [
      "root\n",
      " |-- id: integer (nullable = true)\n",
      " |-- created: timestamp (nullable = true)\n",
      " |-- updated: timestamp (nullable = true)\n",
      " |-- first_name: string (nullable = true)\n",
      " |-- last_name: string (nullable = true)\n",
      " |-- email: string (nullable = true)\n",
      "\n"
     ]
    }
   ],
   "source": [
    "customers_sdf.printSchema()"
   ]
  },
  {
   "cell_type": "markdown",
   "id": "6e2f95ee-a626-4ac0-bc5a-a83e5747d64e",
   "metadata": {},
   "source": [
    "## Register the View"
   ]
  },
  {
   "cell_type": "code",
   "execution_count": 6,
   "id": "855682b7-1ff7-4524-895d-5140ad0e70c1",
   "metadata": {
    "tags": []
   },
   "outputs": [],
   "source": [
    "customers_sdf.createOrReplaceTempView(\"customers\")"
   ]
  },
  {
   "cell_type": "markdown",
   "id": "46501271-ea19-40e5-982e-90a54a0e8139",
   "metadata": {},
   "source": [
    "### Query the View"
   ]
  },
  {
   "cell_type": "code",
   "execution_count": 7,
   "id": "311ffeec-49e0-430f-a878-3f666fc4d98d",
   "metadata": {
    "tags": []
   },
   "outputs": [
    {
     "name": "stdout",
     "output_type": "stream",
     "text": [
      "+---+--------------------+--------------------+----------+---------+--------------------+\n",
      "| id|             created|             updated|first_name|last_name|               email|\n",
      "+---+--------------------+--------------------+----------+---------+--------------------+\n",
      "|  1|2023-09-15 15:34:...|2023-09-15 15:34:...|      John|      Doe| johndoe@example.com|\n",
      "|  2|2023-09-15 15:34:...|2023-09-15 15:34:...|      Jane|    Smith|janesmith@example...|\n",
      "|  3|2023-09-15 15:34:...|2023-09-15 15:34:...|       Bob|  Johnson|bobjohnson@exampl...|\n",
      "|  4|2023-09-15 15:34:...|2023-09-15 15:34:...|     Alice|      Lee|alicelee@example.com|\n",
      "|  5|2023-09-15 15:34:...|2023-09-15 15:34:...|     David|      Kim|davidkim@example.com|\n",
      "|  6|2023-09-15 15:34:...|2023-09-15 15:34:...|     Linda|   Nguyen|lindanguyen@examp...|\n",
      "|  7|2023-09-15 15:34:...|2023-09-15 15:34:...|      Mike|   Garcia|mikegarcia@exampl...|\n",
      "|  8|2023-09-15 15:34:...|2023-09-15 15:34:...|     Emily|     Chen|emilychen@example...|\n",
      "|  9|2023-09-15 15:34:...|2023-09-15 15:34:...|      Ryan|     Wong|ryanwong@example.com|\n",
      "| 10|2023-09-15 15:34:...|2023-09-15 15:34:...|     Karen|     Zhao|karenzhao@example...|\n",
      "+---+--------------------+--------------------+----------+---------+--------------------+\n",
      "\n"
     ]
    }
   ],
   "source": [
    "# Query the view\n",
    "customers_sql = spark.sql(\"SELECT * FROM customers\")\n",
    "customers_sql.show()"
   ]
  },
  {
   "cell_type": "code",
   "execution_count": 8,
   "id": "3d749755-f89b-478d-b587-0d4fa8b3ba56",
   "metadata": {
    "tags": []
   },
   "outputs": [
    {
     "name": "stdout",
     "output_type": "stream",
     "text": [
      "+---+--------------------+--------------------+----------+---------+--------------------+\n",
      "| id|             created|             updated|first_name|last_name|               email|\n",
      "+---+--------------------+--------------------+----------+---------+--------------------+\n",
      "|  4|2023-09-15 15:34:...|2023-09-15 15:34:...|     Alice|      Lee|alicelee@example.com|\n",
      "+---+--------------------+--------------------+----------+---------+--------------------+\n",
      "\n"
     ]
    }
   ],
   "source": [
    "first_name_c = spark.sql(\"SELECT * FROM customers WHERE first_name LIKE '%c%';\")\n",
    "first_name_c.show()"
   ]
  },
  {
   "cell_type": "code",
   "execution_count": null,
   "id": "79cf6db8-e240-4d80-a4aa-752a40b33afb",
   "metadata": {},
   "outputs": [],
   "source": []
  },
  {
   "cell_type": "markdown",
   "id": "60a46acb-dd06-4f6d-b7e9-698201727ee9",
   "metadata": {},
   "source": [
    "## Aggregations"
   ]
  },
  {
   "cell_type": "code",
   "execution_count": 9,
   "id": "5bd67d23-ca4c-4d35-9c72-8ebd30569b62",
   "metadata": {
    "tags": []
   },
   "outputs": [
    {
     "name": "stdout",
     "output_type": "stream",
     "text": [
      "+----------+------+------+------+------+-------------+----------------+--------------+--------------------+--------------------+\n",
      "|total_rows|id_sum|id_avg|id_min|id_max|unique_emails|first_name_first|last_name_last|          all_emails|   unique_last_names|\n",
      "+----------+------+------+------+------+-------------+----------------+--------------+--------------------+--------------------+\n",
      "|        10|    55|   5.5|     1|    10|           10|            Jane|          Zhao|[janesmith@exampl...|[Johnson, Smith, ...|\n",
      "+----------+------+------+------+------+-------------+----------------+--------------+--------------------+--------------------+\n",
      "\n"
     ]
    }
   ],
   "source": [
    "# example aggregations\n",
    "stats_sdf = customers_sdf.agg(count(\"*\").alias(\"total_rows\"),\n",
    "        sum(\"id\").alias(\"id_sum\"),\n",
    "        avg(\"id\").alias(\"id_avg\"),\n",
    "        min(\"id\").alias(\"id_min\"),\n",
    "        max(\"id\").alias(\"id_max\"),\n",
    "        countDistinct(\"email\").alias(\"unique_emails\"),\n",
    "        first(\"first_name\").alias(\"first_name_first\"),\n",
    "        last(\"last_name\").alias(\"last_name_last\"),\n",
    "        collect_list(\"email\").alias(\"all_emails\"),\n",
    "        collect_set(\"last_name\").alias(\"unique_last_names\")\n",
    "    )\n",
    "\n",
    "stats_sdf.show()"
   ]
  },
  {
   "cell_type": "markdown",
   "id": "d9d12713-9384-47f0-bb4b-4a987378b8a6",
   "metadata": {},
   "source": [
    "## Write Results"
   ]
  },
  {
   "cell_type": "code",
   "execution_count": null,
   "id": "a5d285e5-8ed7-49ea-8a9b-36858b963e5a",
   "metadata": {},
   "outputs": [],
   "source": [
    "# Statistical Table "
   ]
  },
  {
   "cell_type": "code",
   "execution_count": 11,
   "id": "bd1df40d-dc0a-44ec-b176-ddddffd7716c",
   "metadata": {
    "tags": []
   },
   "outputs": [],
   "source": [
    "# write the results back to the postgres database\n",
    "stats_sdf.write.format(\"jdbc\").option(\"url\", \"jdbc:postgresql://oasispostgres:5432/oasiscorp\") \\\n",
    "    .option(\"dbtable\", \"customers_stats\") \\\n",
    "    .option(\"user\", \"oasis\").option(\"password\", \"oasis\").mode(\"overwrite\").save()"
   ]
  },
  {
   "cell_type": "code",
   "execution_count": null,
   "id": "30d6bdeb-45b3-4f4a-985a-9044fe048832",
   "metadata": {},
   "outputs": [],
   "source": []
  }
 ],
 "metadata": {
  "kernelspec": {
   "display_name": "Python 3 (ipykernel)",
   "language": "python",
   "name": "python3"
  },
  "language_info": {
   "codemirror_mode": {
    "name": "ipython",
    "version": 3
   },
   "file_extension": ".py",
   "mimetype": "text/x-python",
   "name": "python",
   "nbconvert_exporter": "python",
   "pygments_lexer": "ipython3",
   "version": "3.9.7"
  }
 },
 "nbformat": 4,
 "nbformat_minor": 5
}

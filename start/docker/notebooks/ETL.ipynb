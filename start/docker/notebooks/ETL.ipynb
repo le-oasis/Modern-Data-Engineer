{
 "cells": [
  {
   "cell_type": "markdown",
   "id": "6c3ac87b-6ac9-4485-bfa5-7143f55af654",
   "metadata": {},
   "source": [
    "# First ETL"
   ]
  },
  {
   "cell_type": "code",
   "execution_count": null,
   "id": "261bf34c-2fc2-4588-bff4-288f4f3993d3",
   "metadata": {},
   "outputs": [],
   "source": []
  }
 ],
 "metadata": {
  "kernelspec": {
   "display_name": "Python 3 (ipykernel)",
   "language": "python",
   "name": "python3"
  },
  "language_info": {
   "codemirror_mode": {
    "name": "ipython",
    "version": 3
   },
   "file_extension": ".py",
   "mimetype": "text/x-python",
   "name": "python",
   "nbconvert_exporter": "python",
   "pygments_lexer": "ipython3",
   "version": "3.10.9"
  }
 },
 "nbformat": 4,
 "nbformat_minor": 5
}

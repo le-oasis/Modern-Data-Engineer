{
 "cells": [
  {
   "cell_type": "code",
   "execution_count": null,
   "id": "f0770003-55e6-4c14-a7c7-3bf92e8a7f09",
   "metadata": {},
   "outputs": [],
   "source": []
  }
 ],
 "metadata": {
  "kernelspec": {
   "display_name": "",
   "name": ""
  },
  "language_info": {
   "name": ""
  }
 },
 "nbformat": 4,
 "nbformat_minor": 5
}

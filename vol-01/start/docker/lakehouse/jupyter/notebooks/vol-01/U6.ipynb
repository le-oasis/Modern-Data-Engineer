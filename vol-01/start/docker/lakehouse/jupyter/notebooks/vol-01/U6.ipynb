{
 "cells": [
  {
   "cell_type": "code",
   "execution_count": null,
   "id": "6a10c6e7-0301-4e98-97c8-5e4c3708904d",
   "metadata": {},
   "outputs": [],
   "source": [
    "from pyspark.sql import SparkSession\n",
    "\n",
    "# Create a Spark session\n",
    "spark = SparkSession.builder.appName(\"CoffeeMetadata\").getOrCreate()\n",
    "\n",
    "# Define your data as a list of tuples\n",
    "data = [(\"nespresso\", 10.0),\n",
    "        (\"yuban\", 10.0),\n",
    "        (\"folgers\", 10.0),\n",
    "        (\"four barrel\", 5.0),\n",
    "        (\"ritual\", 4.0)]\n",
    "\n",
    "# Define the schema with comments\n",
    "from pyspark.sql.types import StructType, StructField, StringType, DoubleType\n",
    "\n",
    "schema = StructType([\n",
    "    StructField(\"name\", StringType(), True, {\"comment\": \"Coffee brand name\"}),\n",
    "    StructField(\"roast\", DoubleType(), True, {\"comment\": \"Coffee roast level\"})\n",
    "])\n",
    "\n",
    "# Create a DataFrame with the defined schema\n",
    "coffee_df = spark.createDataFrame(data, schema)\n",
    "\n",
    "# Create a temporary view from the DataFrame\n",
    "coffee_df.createOrReplaceTempView(\"coffee\")\n",
    "\n",
    "# Now, if you run the \"desc coffee\" SQL command, you will see the comments\n",
    "spark.sql(\"desc coffee\").show()"
   ]
  }
 ],
 "metadata": {
  "kernelspec": {
   "display_name": "Python 3 (ipykernel)",
   "language": "python",
   "name": "python3"
  },
  "language_info": {
   "codemirror_mode": {
    "name": "ipython",
    "version": 3
   },
   "file_extension": ".py",
   "mimetype": "text/x-python",
   "name": "python",
   "nbconvert_exporter": "python",
   "pygments_lexer": "ipython3",
   "version": "3.11.5"
  }
 },
 "nbformat": 4,
 "nbformat_minor": 5
}

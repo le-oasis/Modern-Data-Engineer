{
 "cells": [
  {
   "cell_type": "markdown",
   "id": "a3f2dd4e-c988-4928-869a-a02ac6647259",
   "metadata": {},
   "source": [
    "# Getting Stared with Spark\n",
    "\n",
    "\n",
    "\n",
    "Welcome to this hands-on training where we will investigate cleaning a dataset using Python and Apache Spark! \n",
    "During this training, we will cover:\n",
    "\n",
    "* Loading a dataset into a Spark DataFrame\n",
    "* Defining a schema for the data\n",
    "* Saving a file as a Parquet file\n",
    "* Projection & Filtering \n",
    "* Modifying, Renaming, and Dropping Columns\n",
    "* Handling errant rows / columns from the dataset, including comments, missing data, combined or misinterpreted columns, etc.\n",
    "* Using Python UDFs to run advanced transformations on data"
   ]
  },
  {
   "cell_type": "code",
   "execution_count": null,
   "id": "f8032afd",
   "metadata": {
    "vscode": {
     "languageId": "plaintext"
    }
   },
   "outputs": [],
   "source": []
  },
  {
   "cell_type": "code",
   "execution_count": null,
   "id": "62de669f",
   "metadata": {
    "vscode": {
     "languageId": "plaintext"
    }
   },
   "outputs": [],
   "source": []
  },
  {
   "cell_type": "markdown",
   "id": "167e9ecd",
   "metadata": {},
   "source": []
  }
 ],
 "metadata": {
  "kernelspec": {
   "display_name": "Python 3 (ipykernel)",
   "language": "python",
   "name": "python3"
  },
  "language_info": {
   "codemirror_mode": {
    "name": "ipython",
    "version": 3
   },
   "file_extension": ".py",
   "mimetype": "text/x-python",
   "name": "python",
   "nbconvert_exporter": "python",
   "pygments_lexer": "ipython3",
   "version": "3.11.5"
  }
 },
 "nbformat": 4,
 "nbformat_minor": 5
}

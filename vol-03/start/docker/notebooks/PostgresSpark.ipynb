{
 "cells": [
  {
   "cell_type": "markdown",
   "id": "f93bf0bd-02f2-4e30-a0c3-833ad5254c5b",
   "metadata": {},
   "source": [
    "# Postgres SQL & Spark"
   ]
  },
  {
   "cell_type": "code",
   "execution_count": null,
   "id": "43ad25b2-8d38-47ec-b531-53aca14ebc3a",
   "metadata": {},
   "outputs": [],
   "source": []
  }
 ],
 "metadata": {
  "kernelspec": {
   "display_name": "Python 3 (ipykernel)",
   "language": "python",
   "name": "python3"
  },
  "language_info": {
   "codemirror_mode": {
    "name": "ipython",
    "version": 3
   },
   "file_extension": ".py",
   "mimetype": "text/x-python",
   "name": "python",
   "nbconvert_exporter": "python",
   "pygments_lexer": "ipython3",
   "version": "3.10.9"
  }
 },
 "nbformat": 4,
 "nbformat_minor": 5
}

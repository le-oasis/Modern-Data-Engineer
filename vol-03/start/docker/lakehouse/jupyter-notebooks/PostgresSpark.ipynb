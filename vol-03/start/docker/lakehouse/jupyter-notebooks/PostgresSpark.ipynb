{
 "cells": [
  {
   "cell_type": "markdown",
   "id": "f93bf0bd-02f2-4e30-a0c3-833ad5254c5b",
   "metadata": {},
   "source": [
    "# Postgres SQL & Spark\n",
    "\n",
    "- Learn to connect to Postgres, fetch table (schema) definitions, read, query, and write data using Apache Spark and Java Database Connectivity (JDBC)."
   ]
  },
  {
   "cell_type": "markdown",
   "id": "cfea35b1-2459-4b66-89a8-5334a50b3e9c",
   "metadata": {},
   "source": [
    "## Import Libraries"
   ]
  },
  {
   "cell_type": "code",
   "execution_count": 1,
   "id": "43ad25b2-8d38-47ec-b531-53aca14ebc3a",
   "metadata": {
    "tags": []
   },
   "outputs": [],
   "source": [
    "import os\n",
    "# Import required modules\n",
    "from pyspark.sql import SparkSession\n",
    "from pyspark.sql.functions import *\n",
    "from datetime import datetime\n",
    "from pyspark.sql.functions import col\n",
    "from pyspark.sql import functions as f\n",
    "from pyspark.sql import *\n",
    "from pyspark.sql.types import *\n",
    "# # Delta is a storage layer for data lakes\n",
    "# from delta.tables import * \n",
    "# # DeltaTable is the main class for Delta tables\n",
    "# from delta.tables import DeltaTable"
   ]
  },
  {
   "cell_type": "markdown",
   "id": "1dfbfd40-8a15-4ef3-9897-cdd13387a71d",
   "metadata": {},
   "source": [
    "## Initiate Spark Session"
   ]
  },
  {
   "cell_type": "code",
   "execution_count": 2,
   "id": "be682140-f95a-4916-9711-0886c7c882c8",
   "metadata": {
    "tags": []
   },
   "outputs": [],
   "source": [
    "# Create a SparkSession and set the extraClassPath configuration\n",
    "spark = SparkSession.builder.master(\"local[1]\") \\\n",
    "    .appName(\"PostgresSpark\") \\\n",
    "    .config(\"spark.driver.extraClassPath\", \"/home/jovyan/work/jars/*\") \\\n",
    "    .getOrCreate()\n",
    "spark.sparkContext.setLogLevel(\"ERROR\")"
   ]
  },
  {
   "cell_type": "markdown",
   "id": "0749a5e5-0f3c-42c5-8c09-c0921eb91233",
   "metadata": {},
   "source": [
    "## Extract Data"
   ]
  },
  {
   "cell_type": "code",
   "execution_count": 3,
   "id": "de5d712c-7b1f-48da-a5d9-7095e79f03c8",
   "metadata": {
    "tags": []
   },
   "outputs": [
    {
     "name": "stdout",
     "output_type": "stream",
     "text": [
      "+---+--------------------+--------------------+----------+---------+--------------------+\n",
      "| id|             created|             updated|first_name|last_name|               email|\n",
      "+---+--------------------+--------------------+----------+---------+--------------------+\n",
      "|  1|2023-09-15 15:34:...|2023-09-15 15:34:...|      John|      Doe| johndoe@example.com|\n",
      "|  2|2023-09-15 15:34:...|2023-09-15 15:34:...|      Jane|    Smith|janesmith@example...|\n",
      "|  3|2023-09-15 15:34:...|2023-09-15 15:34:...|       Bob|  Johnson|bobjohnson@exampl...|\n",
      "|  4|2023-09-15 15:34:...|2023-09-15 15:34:...|     Alice|      Lee|alicelee@example.com|\n",
      "|  5|2023-09-15 15:34:...|2023-09-15 15:34:...|     David|      Kim|davidkim@example.com|\n",
      "|  6|2023-09-15 15:34:...|2023-09-15 15:34:...|     Linda|   Nguyen|lindanguyen@examp...|\n",
      "|  7|2023-09-15 15:34:...|2023-09-15 15:34:...|      Mike|   Garcia|mikegarcia@exampl...|\n",
      "|  8|2023-09-15 15:34:...|2023-09-15 15:34:...|     Emily|     Chen|emilychen@example...|\n",
      "|  9|2023-09-15 15:34:...|2023-09-15 15:34:...|      Ryan|     Wong|ryanwong@example.com|\n",
      "| 10|2023-09-15 15:34:...|2023-09-15 15:34:...|     Karen|     Zhao|karenzhao@example...|\n",
      "| 11| 2023-09-16 09:00:00|2023-09-16 11:52:...|      Ella| Anderson|    ella@example.com|\n",
      "| 12| 2023-09-16 10:00:00|2023-09-16 11:52:...|    Oliver| Martinez|  oliver@example.com|\n",
      "| 13| 2023-09-16 11:00:00|2023-09-16 11:52:...|     Grace| Gonzalez|   grace@example.com|\n",
      "| 14| 2023-09-16 12:00:00|2023-09-16 11:52:...|       Leo|   Harris|     leo@example.com|\n",
      "| 15| 2023-09-16 13:00:00|2023-09-16 11:52:...|       Zoe|    Clark|     zoe@example.com|\n",
      "| 16| 2023-09-16 14:00:00|2023-09-16 11:52:...|   William|   Walker| william@example.com|\n",
      "| 17| 2023-09-16 15:00:00|2023-09-16 11:52:...|       Ava|     Hall|     ava@example.com|\n",
      "| 18| 2023-09-16 16:00:00|2023-09-16 11:52:...|  Benjamin|    Lewis|benjamin@example.com|\n",
      "| 19| 2023-09-16 17:00:00|2023-09-16 11:52:...|      Lily|    Young|    lily@example.com|\n",
      "| 20| 2023-09-16 18:00:00|2023-09-16 11:52:...|     James|     Hill|   james@example.com|\n",
      "+---+--------------------+--------------------+----------+---------+--------------------+\n",
      "\n"
     ]
    }
   ],
   "source": [
    "# load the data from the postgres database\n",
    "customers_sdf = spark.read.format(\"jdbc\") \\\n",
    "    .option(\"url\", \"jdbc:postgresql://oasispostgres:5432/oasiscorp\") \\\n",
    "    .option(\"dbtable\", \"bettercustomers\") \\\n",
    "    .option(\"user\", \"oasis\").option(\"password\", \"oasis\") \\\n",
    "    .load()\n",
    "\n",
    "# Show the contents of the DataFrame\n",
    "customers_sdf.show()"
   ]
  },
  {
   "cell_type": "code",
   "execution_count": null,
   "id": "d39d6877-4b3e-456f-b177-3b81856e2c4c",
   "metadata": {},
   "outputs": [],
   "source": []
  },
  {
   "cell_type": "code",
   "execution_count": 4,
   "id": "9b78e0ed-872b-4b12-a512-1df7f43da090",
   "metadata": {},
   "outputs": [
    {
     "name": "stdout",
     "output_type": "stream",
     "text": [
      "+--------------------------+--------------------------+\n",
      "|created                   |updated                   |\n",
      "+--------------------------+--------------------------+\n",
      "|2023-09-15 15:34:29.680532|2023-09-15 15:34:29.680532|\n",
      "|2023-09-15 15:34:29.680532|2023-09-15 15:34:29.680532|\n",
      "|2023-09-15 15:34:29.680532|2023-09-15 15:34:29.680532|\n",
      "|2023-09-15 15:34:29.680532|2023-09-15 15:34:29.680532|\n",
      "|2023-09-15 15:34:29.680532|2023-09-15 15:34:29.680532|\n",
      "|2023-09-15 15:34:29.680532|2023-09-15 15:34:29.680532|\n",
      "|2023-09-15 15:34:29.680532|2023-09-15 15:34:29.680532|\n",
      "|2023-09-15 15:34:29.680532|2023-09-15 15:34:29.680532|\n",
      "|2023-09-15 15:34:29.680532|2023-09-15 15:34:29.680532|\n",
      "|2023-09-15 15:34:29.680532|2023-09-15 15:34:29.680532|\n",
      "|2023-09-16 09:00:00       |2023-09-16 11:52:17.289663|\n",
      "|2023-09-16 10:00:00       |2023-09-16 11:52:17.289691|\n",
      "|2023-09-16 11:00:00       |2023-09-16 11:52:17.28971 |\n",
      "|2023-09-16 12:00:00       |2023-09-16 11:52:17.289727|\n",
      "|2023-09-16 13:00:00       |2023-09-16 11:52:17.289827|\n",
      "|2023-09-16 14:00:00       |2023-09-16 11:52:17.289896|\n",
      "|2023-09-16 15:00:00       |2023-09-16 11:52:17.289931|\n",
      "|2023-09-16 16:00:00       |2023-09-16 11:52:17.28996 |\n",
      "|2023-09-16 17:00:00       |2023-09-16 11:52:17.289986|\n",
      "|2023-09-16 18:00:00       |2023-09-16 11:52:17.290012|\n",
      "+--------------------------+--------------------------+\n",
      "\n"
     ]
    }
   ],
   "source": [
    "customers_sdf.select(\"created\",\"updated\").show(truncate=False)"
   ]
  },
  {
   "cell_type": "code",
   "execution_count": null,
   "id": "03416b92-9cde-4812-afc1-b7d2e67bac69",
   "metadata": {},
   "outputs": [],
   "source": []
  },
  {
   "cell_type": "code",
   "execution_count": null,
   "id": "6b766a39-b301-4e59-ba5b-abc3e08c9fd0",
   "metadata": {},
   "outputs": [],
   "source": []
  },
  {
   "cell_type": "code",
   "execution_count": null,
   "id": "60d45e7a-b81b-4c29-8627-0774f9c5286f",
   "metadata": {},
   "outputs": [],
   "source": []
  },
  {
   "cell_type": "markdown",
   "id": "93c7bd90-4d53-4cce-8d67-181bba748008",
   "metadata": {},
   "source": [
    "### View The Schema"
   ]
  },
  {
   "cell_type": "code",
   "execution_count": 5,
   "id": "c1c164e9-57ef-40bb-b914-491fde35005e",
   "metadata": {
    "tags": []
   },
   "outputs": [
    {
     "name": "stdout",
     "output_type": "stream",
     "text": [
      "root\n",
      " |-- id: integer (nullable = true)\n",
      " |-- created: timestamp (nullable = true)\n",
      " |-- updated: timestamp (nullable = true)\n",
      " |-- first_name: string (nullable = true)\n",
      " |-- last_name: string (nullable = true)\n",
      " |-- email: string (nullable = true)\n",
      "\n"
     ]
    }
   ],
   "source": [
    "customers_sdf.printSchema()"
   ]
  },
  {
   "cell_type": "markdown",
   "id": "6e2f95ee-a626-4ac0-bc5a-a83e5747d64e",
   "metadata": {},
   "source": [
    "## Register the View"
   ]
  },
  {
   "cell_type": "code",
   "execution_count": 6,
   "id": "855682b7-1ff7-4524-895d-5140ad0e70c1",
   "metadata": {
    "tags": []
   },
   "outputs": [],
   "source": [
    "customers_sdf.createOrReplaceTempView(\"customers\")"
   ]
  },
  {
   "cell_type": "markdown",
   "id": "46501271-ea19-40e5-982e-90a54a0e8139",
   "metadata": {},
   "source": [
    "### Query the View"
   ]
  },
  {
   "cell_type": "code",
   "execution_count": 7,
   "id": "311ffeec-49e0-430f-a878-3f666fc4d98d",
   "metadata": {
    "tags": []
   },
   "outputs": [
    {
     "name": "stdout",
     "output_type": "stream",
     "text": [
      "+---+--------------------+--------------------+----------+---------+--------------------+\n",
      "| id|             created|             updated|first_name|last_name|               email|\n",
      "+---+--------------------+--------------------+----------+---------+--------------------+\n",
      "|  1|2023-09-15 15:34:...|2023-09-15 15:34:...|      John|      Doe| johndoe@example.com|\n",
      "|  2|2023-09-15 15:34:...|2023-09-15 15:34:...|      Jane|    Smith|janesmith@example...|\n",
      "|  3|2023-09-15 15:34:...|2023-09-15 15:34:...|       Bob|  Johnson|bobjohnson@exampl...|\n",
      "|  4|2023-09-15 15:34:...|2023-09-15 15:34:...|     Alice|      Lee|alicelee@example.com|\n",
      "|  5|2023-09-15 15:34:...|2023-09-15 15:34:...|     David|      Kim|davidkim@example.com|\n",
      "|  6|2023-09-15 15:34:...|2023-09-15 15:34:...|     Linda|   Nguyen|lindanguyen@examp...|\n",
      "|  7|2023-09-15 15:34:...|2023-09-15 15:34:...|      Mike|   Garcia|mikegarcia@exampl...|\n",
      "|  8|2023-09-15 15:34:...|2023-09-15 15:34:...|     Emily|     Chen|emilychen@example...|\n",
      "|  9|2023-09-15 15:34:...|2023-09-15 15:34:...|      Ryan|     Wong|ryanwong@example.com|\n",
      "| 10|2023-09-15 15:34:...|2023-09-15 15:34:...|     Karen|     Zhao|karenzhao@example...|\n",
      "| 11| 2023-09-16 09:00:00|2023-09-16 11:52:...|      Ella| Anderson|    ella@example.com|\n",
      "| 12| 2023-09-16 10:00:00|2023-09-16 11:52:...|    Oliver| Martinez|  oliver@example.com|\n",
      "| 13| 2023-09-16 11:00:00|2023-09-16 11:52:...|     Grace| Gonzalez|   grace@example.com|\n",
      "| 14| 2023-09-16 12:00:00|2023-09-16 11:52:...|       Leo|   Harris|     leo@example.com|\n",
      "| 15| 2023-09-16 13:00:00|2023-09-16 11:52:...|       Zoe|    Clark|     zoe@example.com|\n",
      "| 16| 2023-09-16 14:00:00|2023-09-16 11:52:...|   William|   Walker| william@example.com|\n",
      "| 17| 2023-09-16 15:00:00|2023-09-16 11:52:...|       Ava|     Hall|     ava@example.com|\n",
      "| 18| 2023-09-16 16:00:00|2023-09-16 11:52:...|  Benjamin|    Lewis|benjamin@example.com|\n",
      "| 19| 2023-09-16 17:00:00|2023-09-16 11:52:...|      Lily|    Young|    lily@example.com|\n",
      "| 20| 2023-09-16 18:00:00|2023-09-16 11:52:...|     James|     Hill|   james@example.com|\n",
      "+---+--------------------+--------------------+----------+---------+--------------------+\n",
      "\n"
     ]
    }
   ],
   "source": [
    "# Query the view\n",
    "customers_sql = spark.sql(\"SELECT * FROM customers\")\n",
    "customers_sql.show()"
   ]
  },
  {
   "cell_type": "code",
   "execution_count": 8,
   "id": "3d749755-f89b-478d-b587-0d4fa8b3ba56",
   "metadata": {
    "tags": []
   },
   "outputs": [
    {
     "name": "stdout",
     "output_type": "stream",
     "text": [
      "+---+--------------------+--------------------+----------+---------+--------------------+\n",
      "| id|             created|             updated|first_name|last_name|               email|\n",
      "+---+--------------------+--------------------+----------+---------+--------------------+\n",
      "|  4|2023-09-15 15:34:...|2023-09-15 15:34:...|     Alice|      Lee|alicelee@example.com|\n",
      "| 13| 2023-09-16 11:00:00|2023-09-16 11:52:...|     Grace| Gonzalez|   grace@example.com|\n",
      "+---+--------------------+--------------------+----------+---------+--------------------+\n",
      "\n"
     ]
    }
   ],
   "source": [
    "first_name_c = spark.sql(\"SELECT * FROM customers WHERE first_name LIKE '%c%';\")\n",
    "first_name_c.show()"
   ]
  },
  {
   "cell_type": "code",
   "execution_count": null,
   "id": "79cf6db8-e240-4d80-a4aa-752a40b33afb",
   "metadata": {},
   "outputs": [],
   "source": []
  },
  {
   "cell_type": "markdown",
   "id": "60a46acb-dd06-4f6d-b7e9-698201727ee9",
   "metadata": {},
   "source": [
    "## Aggregations"
   ]
  },
  {
   "cell_type": "code",
   "execution_count": 9,
   "id": "5bd67d23-ca4c-4d35-9c72-8ebd30569b62",
   "metadata": {
    "tags": []
   },
   "outputs": [
    {
     "name": "stdout",
     "output_type": "stream",
     "text": [
      "+----------+------+------+------+------+-------------+----------------+--------------+--------------------+--------------------+\n",
      "|total_rows|id_sum|id_avg|id_min|id_max|unique_emails|first_name_first|last_name_last|          all_emails|   unique_last_names|\n",
      "+----------+------+------+------+------+-------------+----------------+--------------+--------------------+--------------------+\n",
      "|        20|   210|  10.5|     1|    20|           20|           Grace|         Lewis|[grace@example.co...|[Smith, Lee, Walk...|\n",
      "+----------+------+------+------+------+-------------+----------------+--------------+--------------------+--------------------+\n",
      "\n"
     ]
    }
   ],
   "source": [
    "# example aggregations\n",
    "stats_sdf = customers_sdf.agg(count(\"*\").alias(\"total_rows\"),\n",
    "        sum(\"id\").alias(\"id_sum\"),\n",
    "        avg(\"id\").alias(\"id_avg\"),\n",
    "        min(\"id\").alias(\"id_min\"),\n",
    "        max(\"id\").alias(\"id_max\"),\n",
    "        countDistinct(\"email\").alias(\"unique_emails\"),\n",
    "        first(\"first_name\").alias(\"first_name_first\"),\n",
    "        last(\"last_name\").alias(\"last_name_last\"),\n",
    "        collect_list(\"email\").alias(\"all_emails\"),\n",
    "        collect_set(\"last_name\").alias(\"unique_last_names\")\n",
    "    )\n",
    "\n",
    "stats_sdf.show()"
   ]
  },
  {
   "cell_type": "markdown",
   "id": "d9d12713-9384-47f0-bb4b-4a987378b8a6",
   "metadata": {},
   "source": [
    "## Write Results"
   ]
  },
  {
   "cell_type": "code",
   "execution_count": null,
   "id": "a5d285e5-8ed7-49ea-8a9b-36858b963e5a",
   "metadata": {},
   "outputs": [],
   "source": [
    "# Statistical Table "
   ]
  },
  {
   "cell_type": "code",
   "execution_count": 10,
   "id": "bd1df40d-dc0a-44ec-b176-ddddffd7716c",
   "metadata": {
    "tags": []
   },
   "outputs": [],
   "source": [
    "# write the results back to the postgres database\n",
    "stats_sdf.write.format(\"jdbc\").option(\"url\", \"jdbc:postgresql://oasispostgres:5432/oasiscorp\") \\\n",
    "    .option(\"dbtable\", \"customers_stats\") \\\n",
    "    .option(\"user\", \"oasis\").option(\"password\", \"oasis\").mode(\"overwrite\").save()"
   ]
  },
  {
   "cell_type": "code",
   "execution_count": null,
   "id": "4834f262-3f35-4e06-9e22-87370e7b32fe",
   "metadata": {},
   "outputs": [],
   "source": []
  },
  {
   "cell_type": "code",
   "execution_count": null,
   "id": "eda9417f-2440-41da-ac69-2acb05254a89",
   "metadata": {},
   "outputs": [],
   "source": [
    "from pyspark.sql import SparkSession, Row\n",
    "from pyspark.sql.types import IntegerType, StringType, TimestampType\n",
    "from datetime import datetime\n",
    "from faker import Faker\n",
    "import random"
   ]
  },
  {
   "cell_type": "code",
   "execution_count": null,
   "id": "1b3c1c52-d578-4ec9-bed6-5385d0eab527",
   "metadata": {},
   "outputs": [
    {
     "name": "stdout",
     "output_type": "stream",
     "text": [
      "Collecting faker\n",
      "  Downloading Faker-19.6.1-py3-none-any.whl (1.7 MB)\n",
      "\u001b[2K     \u001b[90m━━━━━━━━━━━━━━━━━━━━━━━━━━━━━━━━━━━━━━━━\u001b[0m \u001b[32m1.7/1.7 MB\u001b[0m \u001b[31m1.7 MB/s\u001b[0m eta \u001b[36m0:00:00\u001b[0m00:01\u001b[0m00:01\u001b[0m0m\n",
      "\u001b[?25hRequirement already satisfied: python-dateutil>=2.4 in /opt/conda/lib/python3.9/site-packages (from faker) (2.8.2)\n",
      "Requirement already satisfied: six>=1.5 in /opt/conda/lib/python3.9/site-packages (from python-dateutil>=2.4->faker) (1.16.0)\n",
      "Installing collected packages: faker\n",
      "Successfully installed faker-19.6.1\n",
      "Note: you may need to restart the kernel to use updated packages.\n"
     ]
    }
   ],
   "source": []
  },
  {
   "cell_type": "markdown",
   "id": "0684deed-89e5-49b6-a3fd-a07c218cb41d",
   "metadata": {},
   "source": [
    "## New Records"
   ]
  },
  {
   "cell_type": "code",
   "execution_count": 18,
   "id": "05b07f4e-854c-47db-b882-28a3fa8bb2a2",
   "metadata": {},
   "outputs": [
    {
     "name": "stdout",
     "output_type": "stream",
     "text": [
      "+---+-------------------+--------------------+----------+---------+--------------------+\n",
      "| id|            created|             updated|first_name|last_name|               email|\n",
      "+---+-------------------+--------------------+----------+---------+--------------------+\n",
      "| 21|2023-09-16 09:00:00|2023-09-16 11:58:...|     Alice|    Smith|alice.smith@examp...|\n",
      "| 22|2023-09-16 10:00:00|2023-09-16 11:58:...|       Bob|  Johnson|bob.johnson@examp...|\n",
      "| 23|2023-09-16 11:00:00|2023-09-16 11:58:...|   Charlie|    Brown|charlie.brown@exa...|\n",
      "| 24|2023-09-16 12:00:00|2023-09-16 11:58:...|     David|   Wilson|david.wilson@exam...|\n",
      "| 25|2023-09-16 13:00:00|2023-09-16 11:58:...|      Emma|    Davis|emma.davis@exampl...|\n",
      "| 26|2023-09-16 14:00:00|2023-09-16 11:58:...|     Frank|   Miller|frank.miller@exam...|\n",
      "| 27|2023-09-16 15:00:00|2023-09-16 11:58:...|     Grace|    Brown|grace.brown@examp...|\n",
      "| 28|2023-09-16 16:00:00|2023-09-16 11:58:...|     Henry|   Garcia|henry.garcia@exam...|\n",
      "| 29|2023-09-16 17:00:00|2023-09-16 11:58:...|  Isabella| Martinez|isabella.martinez...|\n",
      "| 30|2023-09-16 18:00:00|2023-09-16 11:58:...|     James|      Lee|james.lee@example...|\n",
      "+---+-------------------+--------------------+----------+---------+--------------------+\n",
      "\n"
     ]
    }
   ],
   "source": [
    "# Define the timestamp conversion function\n",
    "def ts(timeStr):\n",
    "    return datetime.strptime(timeStr, '%Y-%m-%d %H:%M:%S')\n",
    "\n",
    "# Create a function to get the current timestamp\n",
    "def time():\n",
    "    return datetime.now()\n",
    "\n",
    "\n",
    "\n",
    "# Generate random customer records (rows 21-30) with new data\n",
    "new_customer_records = [\n",
    "    (21, ts(\"2023-09-16 09:00:00\"), datetime.now(), \"Alice\", \"Smith\", \"alice.smith@example.com\"),\n",
    "    (22, ts(\"2023-09-16 10:00:00\"), datetime.now(), \"Bob\", \"Johnson\", \"bob.johnson@example.com\"),\n",
    "    (23, ts(\"2023-09-16 11:00:00\"), datetime.now(), \"Charlie\", \"Brown\", \"charlie.brown@example.com\"),\n",
    "    (24, ts(\"2023-09-16 12:00:00\"), datetime.now(), \"David\", \"Wilson\", \"david.wilson@example.com\"),\n",
    "    (25, ts(\"2023-09-16 13:00:00\"), datetime.now(), \"Emma\", \"Davis\", \"emma.davis@example.com\"),\n",
    "    (26, ts(\"2023-09-16 14:00:00\"), datetime.now(), \"Frank\", \"Miller\", \"frank.miller@example.com\"),\n",
    "    (27, ts(\"2023-09-16 15:00:00\"), datetime.now(), \"Grace\", \"Brown\", \"grace.brown@example.com\"),\n",
    "    (28, ts(\"2023-09-16 16:00:00\"), datetime.now(), \"Henry\", \"Garcia\", \"henry.garcia@example.com\"),\n",
    "    (29, ts(\"2023-09-16 17:00:00\"), datetime.now(), \"Isabella\", \"Martinez\", \"isabella.martinez@example.com\"),\n",
    "    (30, ts(\"2023-09-16 18:00:00\"), datetime.now(), \"James\", \"Lee\", \"james.lee@example.com\")\n",
    "]\n",
    "\n",
    "\n",
    "# Define the schema for the new customers DataFrame\n",
    "schema = [\"id\", \"created\", \"updated\", \"first_name\", \"last_name\", \"email\"]\n",
    "\n",
    "# Create a DataFrame for the new customers\n",
    "new_customers_df = spark.createDataFrame(new_customer_records, schema)\n",
    "\n",
    "# Cast the \"id\" column to IntegerType\n",
    "new_customers_df = new_customers_df.withColumn(\"id\", new_customers_df[\"id\"].cast(IntegerType()))\n",
    "\n",
    "# Show the new DataFrame\n",
    "new_customers_df.show()"
   ]
  },
  {
   "cell_type": "code",
   "execution_count": 19,
   "id": "d07eac5f-bc06-4ff6-8905-12030fd9b121",
   "metadata": {},
   "outputs": [
    {
     "name": "stdout",
     "output_type": "stream",
     "text": [
      "root\n",
      " |-- id: integer (nullable = true)\n",
      " |-- created: timestamp (nullable = true)\n",
      " |-- updated: timestamp (nullable = true)\n",
      " |-- first_name: string (nullable = true)\n",
      " |-- last_name: string (nullable = true)\n",
      " |-- email: string (nullable = true)\n",
      "\n"
     ]
    }
   ],
   "source": [
    "new_customers_df.printSchema()"
   ]
  },
  {
   "cell_type": "code",
   "execution_count": null,
   "id": "3b06606a-fdd3-4432-a992-d5356ce27801",
   "metadata": {},
   "outputs": [],
   "source": []
  },
  {
   "cell_type": "code",
   "execution_count": null,
   "id": "0af52c3e-c37f-4c30-98d7-076e9dd9f34a",
   "metadata": {},
   "outputs": [],
   "source": []
  },
  {
   "cell_type": "code",
   "execution_count": null,
   "id": "ade24a04-c66d-4525-8ad0-28d233b751bd",
   "metadata": {},
   "outputs": [],
   "source": []
  },
  {
   "cell_type": "code",
   "execution_count": null,
   "id": "d8dca859-866a-45bd-8db3-5f2ffc7713f0",
   "metadata": {},
   "outputs": [],
   "source": []
  },
  {
   "cell_type": "markdown",
   "id": "0b5aacdd-be98-45e4-9790-9e00d71fe529",
   "metadata": {},
   "source": [
    "## Write Results to db"
   ]
  },
  {
   "cell_type": "code",
   "execution_count": 20,
   "id": "dd2e1464-192f-4b75-848d-5c3652f6acba",
   "metadata": {},
   "outputs": [],
   "source": [
    "# write the results back to the postgres database\n",
    "new_customers_df.write.format(\"jdbc\").option(\"url\", \"jdbc:postgresql://oasispostgres:5432/oasiscorp\") \\\n",
    "    .option(\"dbtable\", \"bettercustomers\") \\\n",
    "    .option(\"user\", \"oasis\").option(\"password\", \"oasis\").mode(\"append\").save()"
   ]
  },
  {
   "cell_type": "code",
   "execution_count": null,
   "id": "985a3d8b-82a1-4de6-b354-28c5cb8c4229",
   "metadata": {},
   "outputs": [],
   "source": []
  },
  {
   "cell_type": "code",
   "execution_count": null,
   "id": "30d6bdeb-45b3-4f4a-985a-9044fe048832",
   "metadata": {},
   "outputs": [],
   "source": []
  },
  {
   "cell_type": "code",
   "execution_count": null,
   "id": "0f6b36a1-c8ae-4432-8921-be001d11b33a",
   "metadata": {},
   "outputs": [],
   "source": []
  },
  {
   "cell_type": "code",
   "execution_count": null,
   "id": "6bdce91f-8e54-4a80-8263-24daafded033",
   "metadata": {},
   "outputs": [],
   "source": []
  },
  {
   "cell_type": "markdown",
   "id": "725a21f9-033e-41b4-8bee-6c1e3aa0040f",
   "metadata": {},
   "source": [
    "## Load New Table"
   ]
  },
  {
   "cell_type": "code",
   "execution_count": 21,
   "id": "78ca61a0-2149-4c92-81d5-cdd76c2af771",
   "metadata": {},
   "outputs": [
    {
     "name": "stdout",
     "output_type": "stream",
     "text": [
      "+---+--------------------+--------------------+----------+---------+--------------------+\n",
      "| id|             created|             updated|first_name|last_name|               email|\n",
      "+---+--------------------+--------------------+----------+---------+--------------------+\n",
      "|  1|2023-09-15 15:34:...|2023-09-15 15:34:...|      John|      Doe| johndoe@example.com|\n",
      "|  2|2023-09-15 15:34:...|2023-09-15 15:34:...|      Jane|    Smith|janesmith@example...|\n",
      "|  3|2023-09-15 15:34:...|2023-09-15 15:34:...|       Bob|  Johnson|bobjohnson@exampl...|\n",
      "|  4|2023-09-15 15:34:...|2023-09-15 15:34:...|     Alice|      Lee|alicelee@example.com|\n",
      "|  5|2023-09-15 15:34:...|2023-09-15 15:34:...|     David|      Kim|davidkim@example.com|\n",
      "|  6|2023-09-15 15:34:...|2023-09-15 15:34:...|     Linda|   Nguyen|lindanguyen@examp...|\n",
      "|  7|2023-09-15 15:34:...|2023-09-15 15:34:...|      Mike|   Garcia|mikegarcia@exampl...|\n",
      "|  8|2023-09-15 15:34:...|2023-09-15 15:34:...|     Emily|     Chen|emilychen@example...|\n",
      "|  9|2023-09-15 15:34:...|2023-09-15 15:34:...|      Ryan|     Wong|ryanwong@example.com|\n",
      "| 10|2023-09-15 15:34:...|2023-09-15 15:34:...|     Karen|     Zhao|karenzhao@example...|\n",
      "| 11| 2023-09-16 09:00:00|2023-09-16 11:52:...|      Ella| Anderson|    ella@example.com|\n",
      "| 12| 2023-09-16 10:00:00|2023-09-16 11:52:...|    Oliver| Martinez|  oliver@example.com|\n",
      "| 13| 2023-09-16 11:00:00|2023-09-16 11:52:...|     Grace| Gonzalez|   grace@example.com|\n",
      "| 14| 2023-09-16 12:00:00|2023-09-16 11:52:...|       Leo|   Harris|     leo@example.com|\n",
      "| 15| 2023-09-16 13:00:00|2023-09-16 11:52:...|       Zoe|    Clark|     zoe@example.com|\n",
      "| 16| 2023-09-16 14:00:00|2023-09-16 11:52:...|   William|   Walker| william@example.com|\n",
      "| 17| 2023-09-16 15:00:00|2023-09-16 11:52:...|       Ava|     Hall|     ava@example.com|\n",
      "| 18| 2023-09-16 16:00:00|2023-09-16 11:52:...|  Benjamin|    Lewis|benjamin@example.com|\n",
      "| 19| 2023-09-16 17:00:00|2023-09-16 11:52:...|      Lily|    Young|    lily@example.com|\n",
      "| 20| 2023-09-16 18:00:00|2023-09-16 11:52:...|     James|     Hill|   james@example.com|\n",
      "+---+--------------------+--------------------+----------+---------+--------------------+\n",
      "only showing top 20 rows\n",
      "\n"
     ]
    }
   ],
   "source": [
    "# load the data from the postgres database\n",
    "customers_sdf2 = spark.read.format(\"jdbc\") \\\n",
    "    .option(\"url\", \"jdbc:postgresql://oasispostgres:5432/oasiscorp\") \\\n",
    "    .option(\"dbtable\", \"bettercustomers\") \\\n",
    "    .option(\"user\", \"oasis\").option(\"password\", \"oasis\") \\\n",
    "    .load()\n",
    "\n",
    "# Show the contents of the DataFrame\n",
    "customers_sdf2.show()"
   ]
  },
  {
   "cell_type": "code",
   "execution_count": 22,
   "id": "1ad17101-1888-42e9-89ce-efa8200c0392",
   "metadata": {},
   "outputs": [
    {
     "name": "stdout",
     "output_type": "stream",
     "text": [
      "+---+--------------------------+--------------------------+----------+---------+-----------------------+\n",
      "|id |created                   |updated                   |first_name|last_name|email                  |\n",
      "+---+--------------------------+--------------------------+----------+---------+-----------------------+\n",
      "|1  |2023-09-15 15:34:29.680532|2023-09-15 15:34:29.680532|John      |Doe      |johndoe@example.com    |\n",
      "|2  |2023-09-15 15:34:29.680532|2023-09-15 15:34:29.680532|Jane      |Smith    |janesmith@example.com  |\n",
      "|3  |2023-09-15 15:34:29.680532|2023-09-15 15:34:29.680532|Bob       |Johnson  |bobjohnson@example.com |\n",
      "|4  |2023-09-15 15:34:29.680532|2023-09-15 15:34:29.680532|Alice     |Lee      |alicelee@example.com   |\n",
      "|5  |2023-09-15 15:34:29.680532|2023-09-15 15:34:29.680532|David     |Kim      |davidkim@example.com   |\n",
      "|6  |2023-09-15 15:34:29.680532|2023-09-15 15:34:29.680532|Linda     |Nguyen   |lindanguyen@example.com|\n",
      "|7  |2023-09-15 15:34:29.680532|2023-09-15 15:34:29.680532|Mike      |Garcia   |mikegarcia@example.com |\n",
      "|8  |2023-09-15 15:34:29.680532|2023-09-15 15:34:29.680532|Emily     |Chen     |emilychen@example.com  |\n",
      "|9  |2023-09-15 15:34:29.680532|2023-09-15 15:34:29.680532|Ryan      |Wong     |ryanwong@example.com   |\n",
      "|10 |2023-09-15 15:34:29.680532|2023-09-15 15:34:29.680532|Karen     |Zhao     |karenzhao@example.com  |\n",
      "|11 |2023-09-16 09:00:00       |2023-09-16 11:52:17.289663|Ella      |Anderson |ella@example.com       |\n",
      "|12 |2023-09-16 10:00:00       |2023-09-16 11:52:17.289691|Oliver    |Martinez |oliver@example.com     |\n",
      "|13 |2023-09-16 11:00:00       |2023-09-16 11:52:17.28971 |Grace     |Gonzalez |grace@example.com      |\n",
      "|14 |2023-09-16 12:00:00       |2023-09-16 11:52:17.289727|Leo       |Harris   |leo@example.com        |\n",
      "|15 |2023-09-16 13:00:00       |2023-09-16 11:52:17.289827|Zoe       |Clark    |zoe@example.com        |\n",
      "|16 |2023-09-16 14:00:00       |2023-09-16 11:52:17.289896|William   |Walker   |william@example.com    |\n",
      "|17 |2023-09-16 15:00:00       |2023-09-16 11:52:17.289931|Ava       |Hall     |ava@example.com        |\n",
      "|18 |2023-09-16 16:00:00       |2023-09-16 11:52:17.28996 |Benjamin  |Lewis    |benjamin@example.com   |\n",
      "|19 |2023-09-16 17:00:00       |2023-09-16 11:52:17.289986|Lily      |Young    |lily@example.com       |\n",
      "|20 |2023-09-16 18:00:00       |2023-09-16 11:52:17.290012|James     |Hill     |james@example.com      |\n",
      "+---+--------------------------+--------------------------+----------+---------+-----------------------+\n",
      "only showing top 20 rows\n",
      "\n"
     ]
    }
   ],
   "source": [
    "# Show the contents of the DataFrame\n",
    "customers_sdf2.show(truncate=False)"
   ]
  },
  {
   "cell_type": "code",
   "execution_count": null,
   "id": "63b4a429-1aa5-440f-9d07-de8bad29c87d",
   "metadata": {},
   "outputs": [],
   "source": []
  },
  {
   "cell_type": "code",
   "execution_count": null,
   "id": "f6bc6d50-f190-45ee-b00e-e1f7beeb2a1b",
   "metadata": {},
   "outputs": [],
   "source": []
  },
  {
   "cell_type": "code",
   "execution_count": 26,
   "id": "5abf68cc-2340-453e-be4a-dfb1d96d2c55",
   "metadata": {},
   "outputs": [],
   "source": [
    "customers_sdf2.createOrReplaceTempView(\"customerss\")"
   ]
  },
  {
   "cell_type": "code",
   "execution_count": 28,
   "id": "29f4e154-c6d0-4629-80b9-e534d4478738",
   "metadata": {},
   "outputs": [
    {
     "name": "stdout",
     "output_type": "stream",
     "text": [
      "+---+-------------------+--------------------+----------+---------+--------------------+\n",
      "| id|            created|             updated|first_name|last_name|               email|\n",
      "+---+-------------------+--------------------+----------+---------+--------------------+\n",
      "| 21|2023-09-16 09:00:00|2023-09-16 11:58:...|     Alice|    Smith|alice.smith@examp...|\n",
      "| 22|2023-09-16 10:00:00|2023-09-16 11:58:...|       Bob|  Johnson|bob.johnson@examp...|\n",
      "| 23|2023-09-16 11:00:00|2023-09-16 11:58:...|   Charlie|    Brown|charlie.brown@exa...|\n",
      "| 24|2023-09-16 12:00:00|2023-09-16 11:58:...|     David|   Wilson|david.wilson@exam...|\n",
      "| 25|2023-09-16 13:00:00|2023-09-16 11:58:...|      Emma|    Davis|emma.davis@exampl...|\n",
      "| 26|2023-09-16 14:00:00|2023-09-16 11:58:...|     Frank|   Miller|frank.miller@exam...|\n",
      "| 27|2023-09-16 15:00:00|2023-09-16 11:58:...|     Grace|    Brown|grace.brown@examp...|\n",
      "| 28|2023-09-16 16:00:00|2023-09-16 11:58:...|     Henry|   Garcia|henry.garcia@exam...|\n",
      "| 29|2023-09-16 17:00:00|2023-09-16 11:58:...|  Isabella| Martinez|isabella.martinez...|\n",
      "| 30|2023-09-16 18:00:00|2023-09-16 11:58:...|     James|      Lee|james.lee@example...|\n",
      "+---+-------------------+--------------------+----------+---------+--------------------+\n",
      "\n"
     ]
    }
   ],
   "source": [
    "first_name_c = spark.sql(\"SELECT * FROM customerss WHERE id > 20\")\n",
    "first_name_c.show()"
   ]
  },
  {
   "cell_type": "code",
   "execution_count": null,
   "id": "5eff1a6c-f697-4195-9e63-b0eeca456249",
   "metadata": {},
   "outputs": [],
   "source": []
  }
 ],
 "metadata": {
  "kernelspec": {
   "display_name": "Python 3 (ipykernel)",
   "language": "python",
   "name": "python3"
  },
  "language_info": {
   "codemirror_mode": {
    "name": "ipython",
    "version": 3
   },
   "file_extension": ".py",
   "mimetype": "text/x-python",
   "name": "python",
   "nbconvert_exporter": "python",
   "pygments_lexer": "ipython3",
   "version": "3.9.7"
  }
 },
 "nbformat": 4,
 "nbformat_minor": 5
}
